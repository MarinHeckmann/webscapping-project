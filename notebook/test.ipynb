{
 "cells": [
  {
   "cell_type": "code",
   "execution_count": null,
   "metadata": {},
   "outputs": [],
   "source": [
    "city = validate_city(input(\"Enter the city: \"),input(\"Enter the country: \"))\n",
    "language = get_choice(\"Enter the number corresponding to your language: \", LANGUAGES)\n",
    "\n",
    "# Demander le nombre d'activités\n",
    "num_activities = int(input(\"Enter the number of activities: \"))\n",
    "\n",
    "# Demander à l'utilisateur de choisir le niveau de sportivité\n",
    "sportivity = get_choice(f\"Enter the number corresponding to your sportivity level: ({', '.join(str(i) for i in SPORTIVITY_LEVELS.keys())}): \", SPORTIVITY_LEVELS)\n",
    "\n",
    "# Demander à l'utilisateur de choisir la catégorie de prix\n",
    "price_category = get_choice(f\"Enter the number corresponding to your price category: ({', '.join(str(i) for i in COSTS.keys())}): \", COSTS)\n"
   ]
  }
 ],
 "metadata": {
  "kernelspec": {
   "display_name": ".venv",
   "language": "python",
   "name": "python3"
  },
  "language_info": {
   "name": "python",
   "version": "3.10.4"
  }
 },
 "nbformat": 4,
 "nbformat_minor": 2
}
