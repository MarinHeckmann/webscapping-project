{
 "cells": [
  {
   "cell_type": "code",
   "execution_count": 3,
   "id": "96766a84-141f-4c79-b819-fb79ebf57f95",
   "metadata": {},
   "outputs": [],
   "source": [
    "import requests\n",
    "from configparser import ConfigParser\n",
    "import os\n",
    "import ast\n",
    "from dotenv import load_dotenv\n"
   ]
  },
  {
   "cell_type": "code",
   "execution_count": null,
   "id": "befffc48-5737-4959-97b6-1e5a50796b5c",
   "metadata": {},
   "outputs": [],
   "source": [
    "if not os.path.exists(\"config.ini\"):\n",
    "    raise Exception(\"FileNotFoundError: config.ini\")\n",
    "config = ConfigParser()\n",
    "config.read('config.ini')\n",
    "API_KEY = config['API_KEY']['TripAdvisor']"
   ]
  },
  {
   "cell_type": "code",
   "execution_count": 5,
   "id": "397b7e46",
   "metadata": {},
   "outputs": [],
   "source": [
    "load_dotenv()\n",
    "API_KEY = os.getenv('tripadvisor_api_key')"
   ]
  },
  {
   "cell_type": "code",
   "execution_count": 6,
   "id": "26666612-75e1-45e9-8315-83329a2d5001",
   "metadata": {},
   "outputs": [],
   "source": [
    "def locationDetails(locationId, language='en', currency='USD'):\n",
    "    \"\"\"\n",
    "    locationId:int      A unique identifier for a location on Tripadvisor. The location ID can be obtained using the Location Search.\n",
    "    language:string     The language in which to return results (e.g. \"en\" for English or \"es\" for Spanish) from the list of our Supported Languages.\n",
    "    currency:string     The currency code to use for request and response (should follow ISO 4217).\n",
    "    \"\"\"\n",
    "    url = f\"https://api.content.tripadvisor.com/api/v1/location/{locationId}/details?language={language}&currency=USD&key={API_KEY}\"\n",
    "    headers = {\"accept\": \"application/json\"}\n",
    "    response = requests.get(url, headers=headers)\n",
    "    return ast.literal_eval(response.text) #return dict"
   ]
  },
  {
   "cell_type": "code",
   "execution_count": 7,
   "id": "ee771e3c-7e1f-408b-ba53-019494fba791",
   "metadata": {},
   "outputs": [],
   "source": [
    "def locationPhotos(locationId, language='en', limit=-1, offset=-1, source=''):\n",
    "    \"\"\"\n",
    "    locationId:int      A unique identifier for a location on Tripadvisor. The location ID can be obtained using the Location Search.\n",
    "    language:string     The language in which to return results (e.g. \"en\" for English or \"es\" for Spanish) from the list of our Supported Languages.\n",
    "    limit:int           The number of results to return\n",
    "    offset:int          The index of the first result\n",
    "    source:string       A comma-separated list of allowed photo sources. Allowed values are 'Expert', 'Management', 'Traveler'. If not specified, allow photos from all sources.\n",
    "    \"\"\"\n",
    "    url = f\"https://api.content.tripadvisor.com/api/v1/location/{locationId}/photos?language=en&key={API_KEY}\"\n",
    "    if limit!=-1:\n",
    "        url += f\"&limit={limit}\"\n",
    "    if offset!=-1:\n",
    "        url += f\"&offset={offset}\"\n",
    "    if source!='':\n",
    "        url += f\"&source={source}\"\n",
    "    headers = {\"accept\": \"application/json\"}\n",
    "    response = requests.get(url, headers=headers)\n",
    "    res_dict = ast.literal_eval(response.text)\n",
    "    if 'data' in res_dict:\n",
    "        return res_dict['data'] # return list(locations)\n",
    "    else:\n",
    "        return res_dict #request failed (return dict)"
   ]
  },
  {
   "cell_type": "code",
   "execution_count": 8,
   "id": "e83b0ed3-bca6-4308-b323-c7499e0edd67",
   "metadata": {},
   "outputs": [],
   "source": [
    "def locationReviews(locationId, language='en', limit=-1, offset=-1):\n",
    "    \"\"\"\n",
    "    locationId:int      A unique identifier for a location on Tripadvisor. The location ID can be obtained using the Location Search.\n",
    "    language:string     The language in which to return results (e.g. \"en\" for English or \"es\" for Spanish) from the list of our Supported Languages.\n",
    "    limit:int           The number of results to return\n",
    "    offset:int          The index of the first result\n",
    "    \"\"\"\n",
    "    url = f\"https://api.content.tripadvisor.com/api/v1/location/{locationId}/reviews?language={language}&key={API_KEY}\"\n",
    "    if limit!=-1:\n",
    "        url += f\"&limit={limit}\"\n",
    "    if offset!=-1:\n",
    "        url += f\"&offset={offset}\"\n",
    "    headers = {\"accept\": \"application/json\"}\n",
    "    response = requests.get(url, headers=headers)\n",
    "    res_dict = ast.literal_eval(response.text)\n",
    "    if 'data' in res_dict:\n",
    "        return res_dict['data'] # return list(locations)\n",
    "    else:\n",
    "        return res_dict #request failed (return dict)"
   ]
  },
  {
   "cell_type": "code",
   "execution_count": 9,
   "id": "a213bedf-5e6b-4470-bee3-1727ec1639ce",
   "metadata": {},
   "outputs": [],
   "source": [
    "def findSearch(searchQuery, category='', phone='', address='', latLong='', radius=-1, radiusUnit='', language='en'):\n",
    "    \"\"\"\n",
    "    searchQuery:string  Text to use for searching based on the name of the location\n",
    "    category:string     Filters result set based on property type. Valid options are \"hotels\", \"attractions\", \"restaurants\", and \"geos\"\n",
    "    phone:string        Phone number to filter the search results by (this can be in any format with spaces and dashes but without the \"+\" sign at the beginning)\n",
    "    address:string      Address to filter the search results by\n",
    "    latLong:string      Latitude/Longitude pair to scope down the search around a specifc point - eg. \"42.3455,-71.10767\"\n",
    "    radius:int          Length of the radius from the provided latitude/longitude pair to filter results. (>0)\n",
    "    radiusUnit:string   Unit for length of the radius. Valid options are \"km\", \"mi\", \"m\" (km=kilometers, mi=miles, m=meters)\n",
    "    language:string     The language in which to return results (e.g. \"en\" for English or \"es\" for Spanish) from the list of our Supported Language\n",
    "    \"\"\"\n",
    "    url = f\"https://api.content.tripadvisor.com/api/v1/location/search?searchQuery={searchQuery}&language={language}&key={API_KEY}\"\n",
    "    if category!='':\n",
    "        url += f\"&category={category}\"\n",
    "    if phone!='':\n",
    "        url += f\"&phone={phone}\"\n",
    "    if address!='':\n",
    "        url += f\"&address={address}\"\n",
    "    if latLong!='':\n",
    "        url += f\"&latLong={latLong}\"\n",
    "        if radius!=-1 and radiusUnit!='':\n",
    "            url += f\"&radius={radius}&radiusUnit={radiusUnit}\"\n",
    "        \n",
    "    headers = {\"accept\": \"application/json\"}\n",
    "    response = requests.get(url, headers=headers)\n",
    "    res_dict = ast.literal_eval(response.text)\n",
    "    if 'data' in res_dict:\n",
    "        return res_dict['data'] # return list(locations)\n",
    "    else:\n",
    "        return res_dict #request failed (return dict)"
   ]
  },
  {
   "cell_type": "code",
   "execution_count": 10,
   "id": "03067b63-6473-486e-8d1d-56489bec61c6",
   "metadata": {},
   "outputs": [],
   "source": [
    "def nearbySearch(latLong, category='', phone='', address='', radius=-1, radiusUnit='', language='en'):\n",
    "    \"\"\"\n",
    "    latLong:string      Latitude/Longitude pair to scope down the search around a specifc point - eg. \"42.3455,-71.10767\"\n",
    "    category:string     Filters result set based on property type. Valid options are \"hotels\", \"attractions\", \"restaurants\", and \"geos\"\n",
    "    phone:string        Phone number to filter the search results by (this can be in any format with spaces and dashes but without the \"+\" sign at the beginning)\n",
    "    address:string      Address to filter the search results by\n",
    "    latLong:string      Latitude/Longitude pair to scope down the search around a specifc point - eg. \"42.3455,-71.10767\"\n",
    "    radius:int          Length of the radius from the provided latitude/longitude pair to filter results. (>0)\n",
    "    radiusUnit:string   Unit for length of the radius. Valid options are \"km\", \"mi\", \"m\" (km=kilometers, mi=miles, m=meters)\n",
    "    language:string     The language in which to return results (e.g. \"en\" for English or \"es\" for Spanish) from the list of our Supported Language\n",
    "    \"\"\"\n",
    "    url = f\"https://api.content.tripadvisor.com/api/v1/location/nearby_search?latLong={latLong}&language={language}&key={API_KEY}\"\n",
    "    if category!='':\n",
    "        url += f\"&category={category}\"\n",
    "    if phone!='':\n",
    "        url += f\"&phone={phone}\"\n",
    "    if address!='':\n",
    "        url += f\"&address={address}\"\n",
    "    if radius!=-1 and radiusUnit!='':\n",
    "        url += f\"&radius={radius}&radiusUnit={radiusUnit}\"\n",
    "    \n",
    "    headers = {\"accept\": \"application/json\"}\n",
    "    response = requests.get(url, headers=headers)\n",
    "    res_dict = ast.literal_eval(response.text)\n",
    "    if 'data' in res_dict:\n",
    "        return res_dict['data'] # return list(locations)\n",
    "    else:\n",
    "        return res_dict #request failed (return dict)"
   ]
  },
  {
   "cell_type": "code",
   "execution_count": null,
   "id": "0166b087-bc06-4f6f-8f77-90f6558cd8ff",
   "metadata": {},
   "outputs": [],
   "source": [
    "locationId=189400\n",
    "locationDetails(locationId)"
   ]
  },
  {
   "cell_type": "code",
   "execution_count": null,
   "id": "b5ca0e6f-376c-457e-9635-06d7c7a354bb",
   "metadata": {},
   "outputs": [],
   "source": [
    "latLong = \"49.256599,4.030003\"\n",
    "nearbySearch(latLong, category='restaurants')"
   ]
  },
  {
   "cell_type": "code",
   "execution_count": null,
   "id": "4f5aa56a",
   "metadata": {},
   "outputs": [],
   "source": []
  }
 ],
 "metadata": {
  "kernelspec": {
   "display_name": "base",
   "language": "python",
   "name": "python3"
  },
  "language_info": {
   "codemirror_mode": {
    "name": "ipython",
    "version": 3
   },
   "file_extension": ".py",
   "mimetype": "text/x-python",
   "name": "python",
   "nbconvert_exporter": "python",
   "pygments_lexer": "ipython3",
   "version": "3.11.5"
  }
 },
 "nbformat": 4,
 "nbformat_minor": 5
}
