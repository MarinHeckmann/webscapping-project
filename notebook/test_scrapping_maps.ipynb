{
 "cells": [
  {
   "cell_type": "markdown",
   "metadata": {},
   "source": [
    "# Test scrapping "
   ]
  },
  {
   "cell_type": "code",
   "execution_count": 1,
   "metadata": {},
   "outputs": [],
   "source": [
    "from dotenv import load_dotenv\n",
    "import os\n",
    "import openrouteservice\n",
    "from openrouteservice import convert\n",
    "import folium\n",
    "import geopy\n",
    "from geopy.geocoders import Nominatim\n",
    "import time\n",
    "\n"
   ]
  },
  {
   "cell_type": "code",
   "execution_count": 2,
   "metadata": {},
   "outputs": [],
   "source": [
    "load_dotenv()\n",
    "api_key = os.getenv('openroute_api_key')\n"
   ]
  },
  {
   "cell_type": "code",
   "execution_count": 3,
   "metadata": {},
   "outputs": [],
   "source": [
    "client = openrouteservice.Client(key=api_key) # Specify your personal API key\n"
   ]
  },
  {
   "cell_type": "code",
   "execution_count": 4,
   "metadata": {},
   "outputs": [
    {
     "name": "stdout",
     "output_type": "stream",
     "text": [
      "{'bbox': [8.327725, 48.231953, 8.345244, 48.263552], 'routes': [{'summary': {'distance': 5477.4, 'duration': 803.6}, 'segments': [{'distance': 5477.4, 'duration': 803.6, 'steps': [{'distance': 247.2, 'duration': 59.3, 'type': 11, 'instruction': 'Head south on Benatweg', 'name': 'Benatweg', 'way_points': [0, 8]}, {'distance': 51.8, 'duration': 12.4, 'type': 6, 'instruction': 'Continue straight onto Benatweg', 'name': 'Benatweg', 'way_points': [8, 10]}, {'distance': 1684.0, 'duration': 134.7, 'type': 1, 'instruction': 'Turn right onto Hölzle, K 5528', 'name': 'Hölzle, K 5528', 'way_points': [10, 64]}, {'distance': 263.7, 'duration': 31.6, 'type': 1, 'instruction': 'Turn right', 'name': '-', 'way_points': [64, 73]}, {'distance': 301.9, 'duration': 36.2, 'type': 0, 'instruction': 'Turn left', 'name': '-', 'way_points': [73, 85]}, {'distance': 535.6, 'duration': 64.3, 'type': 0, 'instruction': 'Turn left', 'name': '-', 'way_points': [85, 96]}, {'distance': 248.1, 'duration': 29.8, 'type': 13, 'instruction': 'Keep right', 'name': '-', 'way_points': [96, 104]}, {'distance': 286.6, 'duration': 51.6, 'type': 1, 'instruction': 'Turn right', 'name': '-', 'way_points': [104, 112]}, {'distance': 257.5, 'duration': 46.4, 'type': 12, 'instruction': 'Keep left', 'name': '-', 'way_points': [112, 118]}, {'distance': 357.9, 'duration': 64.4, 'type': 13, 'instruction': 'Keep right', 'name': '-', 'way_points': [118, 128]}, {'distance': 12.1, 'duration': 2.9, 'type': 6, 'instruction': 'Continue straight', 'name': '-', 'way_points': [128, 129]}, {'distance': 573.2, 'duration': 112.1, 'type': 12, 'instruction': 'Keep left', 'name': '-', 'way_points': [129, 145]}, {'distance': 37.6, 'duration': 9.0, 'type': 0, 'instruction': 'Turn left', 'name': '-', 'way_points': [145, 147]}, {'distance': 469.9, 'duration': 112.8, 'type': 12, 'instruction': 'Keep left', 'name': '-', 'way_points': [147, 161]}, {'distance': 150.3, 'duration': 36.1, 'type': 2, 'instruction': 'Turn sharp left', 'name': '-', 'way_points': [161, 165]}, {'distance': 0.0, 'duration': 0.0, 'type': 10, 'instruction': 'Arrive at your destination, on the right', 'name': '-', 'way_points': [165, 165]}]}], 'bbox': [8.327725, 48.231953, 8.345244, 48.263552], 'geometry': 'mtkeHuv|q@~@VhAf@PR|@hBt@j@^n@L\\\\NjAX`BNXqAlFM^kArAoAfBs@^WFY?{Be@[?WJWRi@t@Q^]`AQRULoAPWHOL]h@mA`C_@d@oAdAkCrBc@Ra@HQByBAsAH[FWH[TaA~@aAj@[J]@aAKM?WN_@h@yCrFW\\\\wAx@WTWXQZ_@fAMPUPWJuAVw@XiAh@URYOMGM[kAkEYiB]}@s@sASWUOaA`Bs@j@MPi@pBU^Y\\\\u@v@QL[PW@WEu@[GXoArEiAlCwBfG[p@a@l@g@f@_Ah@mAn@{@V}A\\\\wATU@UEoAe@g@MaAMaACu@Uk@kE[oAU{A]w@i@}@USwAy@OOy@iAu@c@m@Ok@A{BJmBXqBkBsA}@{Ao@eB@]GKIMKO_@a@_CSo@I]u@sCQc@kAyBWS_@SaAE{@yAu@mDUsAqA}@EM@QTiA|@iAn@gAd@eAg@_@I]k@i@yBkEa@}@W}@WkCUqC?_@Hg@ZqABg@Gm@YoAEgAMq@DhFC`@{@rACH', 'way_points': [0, 165]}], 'metadata': {'attribution': 'openrouteservice.org | OpenStreetMap contributors', 'service': 'routing', 'timestamp': 1735248327052, 'query': {'coordinates': [[8.34234, 48.23424], [8.34423, 48.26424]], 'profile': 'driving-car', 'profileName': 'driving-car', 'format': 'json'}, 'engine': {'version': '9.0.0', 'build_date': '2024-12-02T11:09:21Z', 'graph_date': '2024-12-12T05:07:37Z'}}}\n"
     ]
    }
   ],
   "source": [
    "coords = ((8.34234,48.23424),(8.34423,48.26424))\n",
    "routes = client.directions(coords)\n",
    "\n",
    "print(routes)"
   ]
  },
  {
   "cell_type": "code",
   "execution_count": 5,
   "metadata": {},
   "outputs": [
    {
     "name": "stdout",
     "output_type": "stream",
     "text": [
      "{'bbox': [8.327725, 48.214297, 8.416605, 48.267492], 'routes': [{'summary': {'distance': 27862.6, 'duration': 6417.700000000001}, 'segments': [{'distance': 2154.9, 'duration': 543.7, 'steps': [{'distance': 19.3, 'duration': 5.8, 'type': 11, 'instruction': 'Head southwest', 'name': '-', 'way_points': [0, 1]}, {'distance': 160.1, 'duration': 57.6, 'type': 0, 'instruction': 'Turn left', 'name': '-', 'way_points': [1, 10]}, {'distance': 120.0, 'duration': 24.0, 'type': 0, 'instruction': 'Turn left onto Benatweg', 'name': 'Benatweg', 'way_points': [10, 18]}, {'distance': 189.9, 'duration': 38.0, 'type': 4, 'instruction': 'Turn slight left onto Imbrand', 'name': 'Imbrand', 'way_points': [18, 30]}, {'distance': 271.7, 'duration': 54.3, 'type': 0, 'instruction': 'Turn left onto Imbrand', 'name': 'Imbrand', 'way_points': [30, 39]}, {'distance': 667.2, 'duration': 133.4, 'type': 2, 'instruction': 'Turn sharp left onto Imbrand', 'name': 'Imbrand', 'way_points': [39, 58]}, {'distance': 566.1, 'duration': 169.8, 'type': 1, 'instruction': 'Turn right', 'name': '-', 'way_points': [58, 71]}, {'distance': 83.1, 'duration': 37.4, 'type': 5, 'instruction': 'Turn slight right', 'name': '-', 'way_points': [71, 75]}, {'distance': 77.5, 'duration': 23.2, 'type': 4, 'instruction': 'Turn slight left', 'name': '-', 'way_points': [75, 78]}, {'distance': 0.0, 'duration': 0.0, 'type': 10, 'instruction': 'Arrive at your destination, on the left', 'name': '-', 'way_points': [78, 78]}]}, {'distance': 4590.2, 'duration': 1207.0, 'steps': [{'distance': 65.1, 'duration': 19.5, 'type': 11, 'instruction': 'Head north', 'name': '-', 'way_points': [78, 80]}, {'distance': 430.7, 'duration': 129.2, 'type': 0, 'instruction': 'Turn left', 'name': '-', 'way_points': [80, 89]}, {'distance': 383.1, 'duration': 114.9, 'type': 1, 'instruction': 'Turn right', 'name': '-', 'way_points': [89, 103]}, {'distance': 217.9, 'duration': 49.0, 'type': 0, 'instruction': 'Turn left', 'name': '-', 'way_points': [103, 106]}, {'distance': 1100.2, 'duration': 233.6, 'type': 13, 'instruction': 'Keep right', 'name': '-', 'way_points': [106, 130]}, {'distance': 248.1, 'duration': 55.8, 'type': 13, 'instruction': 'Keep right', 'name': '-', 'way_points': [130, 138]}, {'distance': 286.6, 'duration': 73.7, 'type': 1, 'instruction': 'Turn right', 'name': '-', 'way_points': [138, 146]}, {'distance': 257.5, 'duration': 66.2, 'type': 12, 'instruction': 'Keep left', 'name': '-', 'way_points': [146, 152]}, {'distance': 357.9, 'duration': 92.0, 'type': 13, 'instruction': 'Keep right', 'name': '-', 'way_points': [152, 162]}, {'distance': 12.1, 'duration': 3.6, 'type': 6, 'instruction': 'Continue straight', 'name': '-', 'way_points': [162, 163]}, {'distance': 573.2, 'duration': 172.0, 'type': 12, 'instruction': 'Keep left', 'name': '-', 'way_points': [163, 179]}, {'distance': 37.6, 'duration': 11.3, 'type': 0, 'instruction': 'Turn left', 'name': '-', 'way_points': [179, 181]}, {'distance': 469.9, 'duration': 141.0, 'type': 12, 'instruction': 'Keep left', 'name': '-', 'way_points': [181, 195]}, {'distance': 150.3, 'duration': 45.1, 'type': 2, 'instruction': 'Turn sharp left', 'name': '-', 'way_points': [195, 199]}, {'distance': 0.0, 'duration': 0.0, 'type': 10, 'instruction': 'Arrive at your destination, on the left', 'name': '-', 'way_points': [199, 199]}]}, {'distance': 12059.0, 'duration': 2789.6, 'steps': [{'distance': 1143.7, 'duration': 343.1, 'type': 11, 'instruction': 'Head southeast', 'name': '-', 'way_points': [199, 227]}, {'distance': 28.9, 'duration': 8.7, 'type': 3, 'instruction': 'Turn sharp right', 'name': '-', 'way_points': [227, 228]}, {'distance': 164.2, 'duration': 49.3, 'type': 12, 'instruction': 'Keep left', 'name': '-', 'way_points': [228, 234]}, {'distance': 805.4, 'duration': 241.6, 'type': 5, 'instruction': 'Turn slight right', 'name': '-', 'way_points': [234, 258]}, {'distance': 628.8, 'duration': 188.6, 'type': 1, 'instruction': 'Turn right', 'name': '-', 'way_points': [258, 279]}, {'distance': 507.3, 'duration': 152.2, 'type': 3, 'instruction': 'Turn sharp right', 'name': '-', 'way_points': [279, 295]}, {'distance': 13.3, 'duration': 3.4, 'type': 4, 'instruction': 'Turn slight left', 'name': '-', 'way_points': [295, 296]}, {'distance': 3622.2, 'duration': 724.4, 'type': 1, 'instruction': 'Turn right onto 4252', 'name': '4252', 'way_points': [296, 394]}, {'distance': 145.3, 'duration': 29.1, 'type': 6, 'instruction': 'Continue straight onto Schiltachstraße', 'name': 'Schiltachstraße', 'way_points': [394, 399]}, {'distance': 794.0, 'duration': 165.4, 'type': 4, 'instruction': 'Turn slight left onto Schiltachstraße', 'name': 'Schiltachstraße', 'way_points': [399, 422]}, {'distance': 70.5, 'duration': 42.3, 'type': 0, 'instruction': 'Turn left', 'name': '-', 'way_points': [422, 425]}, {'distance': 257.0, 'duration': 51.4, 'type': 3, 'instruction': 'Turn sharp right onto Bahnhofstraße, B 462', 'name': 'Bahnhofstraße, B 462', 'way_points': [425, 435]}, {'distance': 87.4, 'duration': 17.5, 'type': 3, 'instruction': 'Turn sharp right onto Küfergasse', 'name': 'Küfergasse', 'way_points': [435, 438]}, {'distance': 82.5, 'duration': 16.5, 'type': 0, 'instruction': 'Turn left onto An der Steige', 'name': 'An der Steige', 'way_points': [438, 441]}, {'distance': 97.4, 'duration': 19.5, 'type': 1, 'instruction': 'Turn right onto Bauernhofweg', 'name': 'Bauernhofweg', 'way_points': [441, 450]}, {'distance': 39.9, 'duration': 8.0, 'type': 0, 'instruction': 'Turn left onto Auf dem Heideckle', 'name': 'Auf dem Heideckle', 'way_points': [450, 453]}, {'distance': 162.1, 'duration': 32.4, 'type': 1, 'instruction': 'Turn right onto Auf dem Heideckle', 'name': 'Auf dem Heideckle', 'way_points': [453, 459]}, {'distance': 812.2, 'duration': 162.4, 'type': 0, 'instruction': 'Turn left onto Vogtshof', 'name': 'Vogtshof', 'way_points': [459, 479]}, {'distance': 300.0, 'duration': 60.0, 'type': 0, 'instruction': 'Turn left onto Steighäusle', 'name': 'Steighäusle', 'way_points': [479, 487]}, {'distance': 466.0, 'duration': 93.2, 'type': 1, 'instruction': 'Turn right onto Dr.-Helmut-Junghans-Straße', 'name': 'Dr.-Helmut-Junghans-Straße', 'way_points': [487, 506]}, {'distance': 199.3, 'duration': 39.9, 'type': 1, 'instruction': 'Turn right onto Eckenhofstraße', 'name': 'Eckenhofstraße', 'way_points': [506, 514]}, {'distance': 247.7, 'duration': 49.5, 'type': 1, 'instruction': 'Turn right onto Hörnlestraße', 'name': 'Hörnlestraße', 'way_points': [514, 520]}, {'distance': 85.3, 'duration': 17.1, 'type': 1, 'instruction': 'Turn right onto Kastanienweg', 'name': 'Kastanienweg', 'way_points': [520, 523]}, {'distance': 220.6, 'duration': 44.1, 'type': 2, 'instruction': 'Turn sharp left onto Hörnleweg', 'name': 'Hörnleweg', 'way_points': [523, 530]}, {'distance': 67.9, 'duration': 20.4, 'type': 0, 'instruction': 'Turn left onto Eichenweg', 'name': 'Eichenweg', 'way_points': [530, 532]}, {'distance': 269.5, 'duration': 53.9, 'type': 1, 'instruction': 'Turn right onto Bergstraße', 'name': 'Bergstraße', 'way_points': [532, 540]}, {'distance': 187.6, 'duration': 37.5, 'type': 1, 'instruction': 'Turn right onto Birkenhofweg', 'name': 'Birkenhofweg', 'way_points': [540, 544]}, {'distance': 332.2, 'duration': 66.4, 'type': 4, 'instruction': 'Turn slight left onto Sulgerberg', 'name': 'Sulgerberg', 'way_points': [544, 549]}, {'distance': 86.5, 'duration': 17.3, 'type': 6, 'instruction': 'Continue straight onto Hutneck', 'name': 'Hutneck', 'way_points': [549, 551]}, {'distance': 134.2, 'duration': 34.5, 'type': 1, 'instruction': 'Turn right onto Hutneck', 'name': 'Hutneck', 'way_points': [551, 553]}, {'distance': 0.0, 'duration': 0.0, 'type': 10, 'instruction': 'Arrive at Hutneck, on the right', 'name': '-', 'way_points': [553, 553]}]}, {'distance': 9058.5, 'duration': 1877.4, 'steps': [{'distance': 134.2, 'duration': 34.5, 'type': 11, 'instruction': 'Head northeast on Hutneck', 'name': 'Hutneck', 'way_points': [553, 555]}, {'distance': 86.5, 'duration': 17.3, 'type': 0, 'instruction': 'Turn left onto Hutneck', 'name': 'Hutneck', 'way_points': [555, 557]}, {'distance': 332.2, 'duration': 66.4, 'type': 6, 'instruction': 'Continue straight onto Sulgerberg', 'name': 'Sulgerberg', 'way_points': [557, 562]}, {'distance': 187.6, 'duration': 37.5, 'type': 5, 'instruction': 'Turn slight right onto Birkenhofweg', 'name': 'Birkenhofweg', 'way_points': [562, 566]}, {'distance': 269.5, 'duration': 53.9, 'type': 0, 'instruction': 'Turn left onto Bergstraße', 'name': 'Bergstraße', 'way_points': [566, 574]}, {'distance': 67.9, 'duration': 20.4, 'type': 0, 'instruction': 'Turn left onto Eichenweg', 'name': 'Eichenweg', 'way_points': [574, 576]}, {'distance': 220.6, 'duration': 44.1, 'type': 1, 'instruction': 'Turn right onto Hörnleweg', 'name': 'Hörnleweg', 'way_points': [576, 583]}, {'distance': 85.3, 'duration': 17.1, 'type': 3, 'instruction': 'Turn sharp right onto Kastanienweg', 'name': 'Kastanienweg', 'way_points': [583, 586]}, {'distance': 247.7, 'duration': 49.5, 'type': 0, 'instruction': 'Turn left onto Hörnlestraße', 'name': 'Hörnlestraße', 'way_points': [586, 592]}, {'distance': 199.3, 'duration': 39.9, 'type': 0, 'instruction': 'Turn left onto Eckenhofstraße', 'name': 'Eckenhofstraße', 'way_points': [592, 600]}, {'distance': 466.0, 'duration': 93.2, 'type': 0, 'instruction': 'Turn left onto Dr.-Helmut-Junghans-Straße', 'name': 'Dr.-Helmut-Junghans-Straße', 'way_points': [600, 619]}, {'distance': 300.0, 'duration': 60.0, 'type': 0, 'instruction': 'Turn left onto Steighäusle', 'name': 'Steighäusle', 'way_points': [619, 627]}, {'distance': 812.2, 'duration': 162.4, 'type': 1, 'instruction': 'Turn right onto Vogtshof', 'name': 'Vogtshof', 'way_points': [627, 647]}, {'distance': 168.7, 'duration': 41.6, 'type': 2, 'instruction': 'Turn sharp left onto Amselstraße', 'name': 'Amselstraße', 'way_points': [647, 655]}, {'distance': 44.1, 'duration': 15.9, 'type': 1, 'instruction': 'Turn right', 'name': '-', 'way_points': [655, 659]}, {'distance': 83.4, 'duration': 16.7, 'type': 3, 'instruction': 'Turn sharp right onto Erhard-Junghans-Straße', 'name': 'Erhard-Junghans-Straße', 'way_points': [659, 666]}, {'distance': 8.3, 'duration': 1.7, 'type': 1, 'instruction': 'Turn right onto Am Sonnenberg', 'name': 'Am Sonnenberg', 'way_points': [666, 667]}, {'distance': 177.4, 'duration': 35.5, 'type': 0, 'instruction': 'Turn left onto Am Sonnenberg', 'name': 'Am Sonnenberg', 'way_points': [667, 678]}, {'distance': 31.9, 'duration': 6.4, 'type': 0, 'instruction': 'Turn left onto Am Sonnenberg', 'name': 'Am Sonnenberg', 'way_points': [678, 679]}, {'distance': 22.1, 'duration': 13.2, 'type': 1, 'instruction': 'Turn right', 'name': '-', 'way_points': [679, 683]}, {'distance': 112.6, 'duration': 22.5, 'type': 5, 'instruction': 'Turn slight right onto Weihergasse', 'name': 'Weihergasse', 'way_points': [683, 686]}, {'distance': 122.8, 'duration': 24.6, 'type': 4, 'instruction': 'Turn slight left onto Weihergasse', 'name': 'Weihergasse', 'way_points': [686, 690]}, {'distance': 59.8, 'duration': 12.0, 'type': 1, 'instruction': 'Turn right', 'name': '-', 'way_points': [690, 695]}, {'distance': 55.2, 'duration': 11.0, 'type': 1, 'instruction': 'Turn right onto Am Mühlegraben', 'name': 'Am Mühlegraben', 'way_points': [695, 697]}, {'distance': 102.1, 'duration': 20.4, 'type': 2, 'instruction': 'Turn sharp left onto Arthur-Junghans-Straße', 'name': 'Arthur-Junghans-Straße', 'way_points': [697, 706]}, {'distance': 68.9, 'duration': 13.8, 'type': 5, 'instruction': 'Turn slight right onto Lauterbacher Straße', 'name': 'Lauterbacher Straße', 'way_points': [706, 710]}, {'distance': 478.0, 'duration': 95.6, 'type': 1, 'instruction': 'Turn right onto Tösstraße', 'name': 'Tösstraße', 'way_points': [710, 726]}, {'distance': 2065.0, 'duration': 413.0, 'type': 3, 'instruction': 'Turn sharp right onto Lauterbacher Straße, L 108', 'name': 'Lauterbacher Straße, L 108', 'way_points': [726, 795]}, {'distance': 48.9, 'duration': 9.8, 'type': 13, 'instruction': 'Keep right onto Unterdorf', 'name': 'Unterdorf', 'way_points': [795, 797]}, {'distance': 591.1, 'duration': 118.2, 'type': 12, 'instruction': 'Keep left onto Unterdorf', 'name': 'Unterdorf', 'way_points': [797, 818]}, {'distance': 264.8, 'duration': 53.0, 'type': 1, 'instruction': 'Turn right onto Schramberger Straße, L 108', 'name': 'Schramberger Straße, L 108', 'way_points': [818, 825]}, {'distance': 613.3, 'duration': 122.7, 'type': 1, 'instruction': 'Turn right onto Albert-Gold-Straße, K 5528', 'name': 'Albert-Gold-Straße, K 5528', 'way_points': [825, 845]}, {'distance': 105.8, 'duration': 21.2, 'type': 1, 'instruction': 'Turn right onto Wiesenwegle', 'name': 'Wiesenwegle', 'way_points': [845, 852]}, {'distance': 185.8, 'duration': 37.2, 'type': 4, 'instruction': 'Turn slight left onto Eichbusch', 'name': 'Eichbusch', 'way_points': [852, 861]}, {'distance': 59.9, 'duration': 12.0, 'type': 1, 'instruction': 'Turn right onto Benatweg', 'name': 'Benatweg', 'way_points': [861, 863]}, {'distance': 160.1, 'duration': 57.6, 'type': 2, 'instruction': 'Turn sharp left', 'name': '-', 'way_points': [863, 872]}, {'distance': 19.3, 'duration': 5.8, 'type': 1, 'instruction': 'Turn right', 'name': '-', 'way_points': [872, 873]}, {'distance': 0.0, 'duration': 0.0, 'type': 10, 'instruction': 'Arrive at your destination, on the left', 'name': '-', 'way_points': [873, 873]}]}], 'bbox': [8.327725, 48.214297, 8.416605, 48.267492], 'geometry': 'stkeHwm|q@ZZHIKe@Uu@WWDq@Zy@Sm@]WDe@_Aw@IUAU?SDMHMl@[NWDYDq@DMLIz@EHCHIFa@?MGY_AyBQSSFe@Fo@GkAWWMk@e@{@eAoAmAo@k@NfE?XCTgArFWbAG`@OpASfA]lAq@zAa@jAe@|@[^aBtA_@d@iA`Bs@n@]T]NGs@EUa@c@kAm@iBcC_E{D{@_@yAaA_@u@m@sBw@s@yAUEYRkBc@SQKMOe@?eAI]Gg@IkA[k@hAkAp@u@TgAb@cBNaBFsB`B_BlAa@z@GIDMCYQQq@DoAb@qA|@qBtBkAdBK^Ad@TjBC^IPt@dFdBlFVn@nB~DL\\\\Bl@AxJG~E?lABZFR~@lCPv@d@zCD\\\\?VGXoArEiAlCwBfG[p@a@l@g@f@_Ah@mAn@{@V}A\\\\wATU@UEoAe@g@MaAMaACu@Uk@kE[oAU{A]w@i@}@USwAy@OOy@iAu@c@m@Ok@A{BJmBXqBkBsA}@{Ao@eB@]GKIMKO_@a@_CSo@I]u@sCQc@kAyBWS_@SaAE{@yAu@mDUsAqA}@EM@QTiA|@iAn@gAd@eAg@_@I]k@i@yBkEa@}@W}@WkCUqC?_@Hg@ZqABg@Gm@YoAEgAMq@DhFC`@{@rACHBIz@sABa@EiFKu@We@e@_@cBm@w@u@Ac@Ja@^c@hCeBLi@AeBOsASq@qAwBaAiAe@WaDcAoCyAWi@O{@m@kFWg@uCwCWm@p@LZO`As@r@mAh@{APURIrAd@zAP~A~@j@JTCNUTo@HeAAaDMaDDi@\\\\}CAi@u@{B[cBQWSIkBGYIwBuA]i@Wq@C_@?[lDaAZAf@]d@g@d@]Jc@?[YkCGuAFaAn@_Ch@g@x@i@hAc@FGCSiAaAgABUESQOa@^JNAROt@cARIv@Jh@Z^INo@^kC?wANqAh@eGd@qAIeBSeAO[\\\\m@Xa@\\\\Yp@]jDuAh@_@b@e@x@gA^k@b@g@f@_@^Kd@ErEKv@LlBn@n@Hn@CjEu@dAItBMjACrALlAE`Ca@pAc@ZE`@@`@L`@T`BlB^Xj@Jl@AjBg@|@e@p@s@p@k@lBo@n@Gf@DdAf@pCbCf@h@dAfBh@`@XHp@BVEj@Ur@s@jA{BtC_Hb@oAHa@D]@s@C{CBeAHeADODS\\\\g@f@i@p@YZIv@En@HPHPL`@`@LTXt@NbAJfCB`@Hh@Z~@Vb@RTp@\\\\ZF|CKx@KrAc@bAWt@]`@Wn@q@z@yAf@o@r@]vDo@v@[XQfAgAl@q@fEaGhA_B~@gAj@k@TOD@`@]t@Yj@ObAUx@[`A{@l@m@nAkATUTUNK`CgBd@Yn@[LGlD}AlDwAv@[`@Q\\\\QVYR_@X}@Ik@]mBEWn@CLEFO@QCS_@gESyCUeASg@We@ZMv@OdAKBkC@W?{@LMXKTARFDLLx@HXJL?@NUD]@m@vAqANG|AVZ@JG`@AZ}@Fg@AYKkAIk@Ck@NyEn@{FGwA@S^k@Tk@h@qC\\\\_AJoAVaFh@eHCg@k@kEIaAqCq@YMi@e@Wm@E[@gBN_B^kDH@~ATd@?d@WTk@@eAE{ACoACu@@kAB_AD_AB]FyAD_AG}@S{@Sk@Mm@DIp@mAHa@Dm@Bo@@wC?cBE]`@YtBgBJQ^aAHm@j@qFrAb@b@RTVBg@JU|@}A\\\\eA`@_A^_@|A_BBeAIoBx@_Bt@eAh@k@l@q@`@cAr@}@x@o@\\\\CH^DtEB~BtAVd@S`Hn@|@@~BOfAYdBcAd@c@`BdB|ApB}AqBaBeBe@b@eBbAgAX_CN}@AaHo@e@RuAWC_CEuEI_@]By@n@s@|@a@bAm@p@i@j@u@dAy@~AHnBCdA}A~A_@^a@~@]dA}@|AKTCf@UWc@SsAc@k@pFIl@_@`AKPuBfBa@XD\\\\?bBAvCCn@El@I`@q@lAEHLl@Rj@Rz@F|@E~@GxAC\\\\E~@C~@AjABt@BnADzAAdAUj@e@Ve@?_BUIA_@jDO~AAfBDZVl@h@d@XLpCp@H`Aj@jEBf@i@dHW`FKnA]~@i@pCUj@_@j@ARFvAo@zFOxEBj@Hj@JjA@XGf@[|@T?X]RQJC`ANt@It@Nb@@BFVNTBTNaATKHAJBH\\\\HDD?VMF?RDHNFTBtAJj@Cn@Ml@SL@HD@Ht@_@@D?JFA@Zm@lAmAzBIVNbD@LJfBFl@KF?JKJq@r@GJgAeAMEBNCxA@DJv@BFLXDDTBJ@HFJDr@\\\\Zp@ET?XPdAj@~B`@bBVpBHr@ZrCz@xIDHH?HCFMH}AD[NYX`Br@`DDn@Bt@Cx@Ez@O~@Mj@s@tAkAbBsCtCY^O\\\\Ob@Kh@GrATfELdBN~@Rt@pCtEb@z@Lt@B\\\\?j@Ed@On@]l@YTSJk@?[K{@i@e@Q[@_@LIHYd@Mj@ATAZDp@Ln@Lf@l@rBF^B\\\\?`@Eb@I`@Wn@kArB_@lAwA~F{@nDSrAQ`@Kf@G~@BdAJr@Zx@?v@KhBa@bEOfAU`A_@hAiAdAq@Ie@Gi@Bk@Xa@n@Qv@E~@ErFA`@_@rCI\\\\Yj@MVUp@OdAUhEJfBPpABFHZZjAHHRDDpA?tA?PG|@i@pDOrBOzCWA[F_@\\\\c@r@g@|Aa@dBM\\\\Yd@w@lAc@t@m@^MHQL{@|@gAl@_FvBg@`@SXWj@Mt@QEIGEU@s@E[g@{AMOw@Qc@]]e@Yi@SUQCOHk@`BON_AWc@[Ed@\\\\VRl@[x@Ep@VVTt@Jd@IH[[', 'way_points': [0, 78, 199, 553, 873]}], 'metadata': {'attribution': 'openrouteservice.org | OpenStreetMap contributors', 'service': 'routing', 'timestamp': 1735248327531, 'query': {'coordinates': [[8.34234, 48.23424], [8.34523, 48.24424], [8.34423, 48.26424], [8.41423, 48.21424], [8.34234, 48.23424]], 'profile': 'cycling-regular', 'profileName': 'cycling-regular', 'format': 'json'}, 'engine': {'version': '9.0.0', 'build_date': '2024-12-02T11:09:21Z', 'graph_date': '2024-12-25T12:14:04Z'}}}\n"
     ]
    }
   ],
   "source": [
    "coords = ((8.34234,48.23424),(8.34423,48.26424), (8.34523,48.24424), (8.41423,48.21424),(8.34234,48.23424))\n",
    "\n",
    "routes = client.directions(coords, profile='cycling-regular', optimize_waypoints=True)\n",
    "\n",
    "print(routes)"
   ]
  },
  {
   "cell_type": "code",
   "execution_count": 6,
   "metadata": {},
   "outputs": [
    {
     "data": {
      "text/plain": [
       "'stkeHwm|q@ZZHIKe@Uu@WWDq@Zy@Sm@]WDe@_Aw@IUAU?SDMHMl@[NWDYDq@DMLIz@EHCHIFa@?MGY_AyBQSSFe@Fo@GkAWWMk@e@{@eAoAmAo@k@NfE?XCTgArFWbAG`@OpASfA]lAq@zAa@jAe@|@[^aBtA_@d@iA`Bs@n@]T]NGs@EUa@c@kAm@iBcC_E{D{@_@yAaA_@u@m@sBw@s@yAUEYRkBc@SQKMOe@?eAI]Gg@IkA[k@hAkAp@u@TgAb@cBNaBFsB`B_BlAa@z@GIDMCYQQq@DoAb@qA|@qBtBkAdBK^Ad@TjBC^IPt@dFdBlFVn@nB~DL\\\\Bl@AxJG~E?lABZFR~@lCPv@d@zCD\\\\?VGXoArEiAlCwBfG[p@a@l@g@f@_Ah@mAn@{@V}A\\\\wATU@UEoAe@g@MaAMaACu@Uk@kE[oAU{A]w@i@}@USwAy@OOy@iAu@c@m@Ok@A{BJmBXqBkBsA}@{Ao@eB@]GKIMKO_@a@_CSo@I]u@sCQc@kAyBWS_@SaAE{@yAu@mDUsAqA}@EM@QTiA|@iAn@gAd@eAg@_@I]k@i@yBkEa@}@W}@WkCUqC?_@Hg@ZqABg@Gm@YoAEgAMq@DhFC`@{@rACHBIz@sABa@EiFKu@We@e@_@cBm@w@u@Ac@Ja@^c@hCeBLi@AeBOsASq@qAwBaAiAe@WaDcAoCyAWi@O{@m@kFWg@uCwCWm@p@LZO`As@r@mAh@{APURIrAd@zAP~A~@j@JTCNUTo@HeAAaDMaDDi@\\\\}CAi@u@{B[cBQWSIkBGYIwBuA]i@Wq@C_@?[lDaAZAf@]d@g@d@]Jc@?[YkCGuAFaAn@_Ch@g@x@i@hAc@FGCSiAaAgABUESQOa@^JNAROt@cARIv@Jh@Z^INo@^kC?wANqAh@eGd@qAIeBSeAO[\\\\m@Xa@\\\\Yp@]jDuAh@_@b@e@x@gA^k@b@g@f@_@^Kd@ErEKv@LlBn@n@Hn@CjEu@dAItBMjACrALlAE`Ca@pAc@ZE`@@`@L`@T`BlB^Xj@Jl@AjBg@|@e@p@s@p@k@lBo@n@Gf@DdAf@pCbCf@h@dAfBh@`@XHp@BVEj@Ur@s@jA{BtC_Hb@oAHa@D]@s@C{CBeAHeADODS\\\\g@f@i@p@YZIv@En@HPHPL`@`@LTXt@NbAJfCB`@Hh@Z~@Vb@RTp@\\\\ZF|CKx@KrAc@bAWt@]`@Wn@q@z@yAf@o@r@]vDo@v@[XQfAgAl@q@fEaGhA_B~@gAj@k@TOD@`@]t@Yj@ObAUx@[`A{@l@m@nAkATUTUNK`CgBd@Yn@[LGlD}AlDwAv@[`@Q\\\\QVYR_@X}@Ik@]mBEWn@CLEFO@QCS_@gESyCUeASg@We@ZMv@OdAKBkC@W?{@LMXKTARFDLLx@HXJL?@NUD]@m@vAqANG|AVZ@JG`@AZ}@Fg@AYKkAIk@Ck@NyEn@{FGwA@S^k@Tk@h@qC\\\\_AJoAVaFh@eHCg@k@kEIaAqCq@YMi@e@Wm@E[@gBN_B^kDH@~ATd@?d@WTk@@eAE{ACoACu@@kAB_AD_AB]FyAD_AG}@S{@Sk@Mm@DIp@mAHa@Dm@Bo@@wC?cBE]`@YtBgBJQ^aAHm@j@qFrAb@b@RTVBg@JU|@}A\\\\eA`@_A^_@|A_BBeAIoBx@_Bt@eAh@k@l@q@`@cAr@}@x@o@\\\\CH^DtEB~BtAVd@S`Hn@|@@~BOfAYdBcAd@c@`BdB|ApB}AqBaBeBe@b@eBbAgAX_CN}@AaHo@e@RuAWC_CEuEI_@]By@n@s@|@a@bAm@p@i@j@u@dAy@~AHnBCdA}A~A_@^a@~@]dA}@|AKTCf@UWc@SsAc@k@pFIl@_@`AKPuBfBa@XD\\\\?bBAvCCn@El@I`@q@lAEHLl@Rj@Rz@F|@E~@GxAC\\\\E~@C~@AjABt@BnADzAAdAUj@e@Ve@?_BUIA_@jDO~AAfBDZVl@h@d@XLpCp@H`Aj@jEBf@i@dHW`FKnA]~@i@pCUj@_@j@ARFvAo@zFOxEBj@Hj@JjA@XGf@[|@T?X]RQJC`ANt@It@Nb@@BFVNTBTNaATKHAJBH\\\\HDD?VMF?RDHNFTBtAJj@Cn@Ml@SL@HD@Ht@_@@D?JFA@Zm@lAmAzBIVNbD@LJfBFl@KF?JKJq@r@GJgAeAMEBNCxA@DJv@BFLXDDTBJ@HFJDr@\\\\Zp@ET?XPdAj@~B`@bBVpBHr@ZrCz@xIDHH?HCFMH}AD[NYX`Br@`DDn@Bt@Cx@Ez@O~@Mj@s@tAkAbBsCtCY^O\\\\Ob@Kh@GrATfELdBN~@Rt@pCtEb@z@Lt@B\\\\?j@Ed@On@]l@YTSJk@?[K{@i@e@Q[@_@LIHYd@Mj@ATAZDp@Ln@Lf@l@rBF^B\\\\?`@Eb@I`@Wn@kArB_@lAwA~F{@nDSrAQ`@Kf@G~@BdAJr@Zx@?v@KhBa@bEOfAU`A_@hAiAdAq@Ie@Gi@Bk@Xa@n@Qv@E~@ErFA`@_@rCI\\\\Yj@MVUp@OdAUhEJfBPpABFHZZjAHHRDDpA?tA?PG|@i@pDOrBOzCWA[F_@\\\\c@r@g@|Aa@dBM\\\\Yd@w@lAc@t@m@^MHQL{@|@gAl@_FvBg@`@SXWj@Mt@QEIGEU@s@E[g@{AMOw@Qc@]]e@Yi@SUQCOHk@`BON_AWc@[Ed@\\\\VRl@[x@Ep@VVTt@Jd@IH[['"
      ]
     },
     "execution_count": 6,
     "metadata": {},
     "output_type": "execute_result"
    }
   ],
   "source": [
    "routes['routes'][0]['geometry']"
   ]
  },
  {
   "cell_type": "code",
   "execution_count": 7,
   "metadata": {},
   "outputs": [],
   "source": [
    "geometry=routes['routes'][0]['geometry']\n",
    "decoded = convert.decode_polyline(geometry)\n"
   ]
  },
  {
   "cell_type": "code",
   "execution_count": 8,
   "metadata": {},
   "outputs": [
    {
     "data": {
      "text/plain": [
       "[[8.34284, 48.23386],\n",
       " [8.3427, 48.23372],\n",
       " [8.34275, 48.23367],\n",
       " [8.34294, 48.23373],\n",
       " [8.34321, 48.23384],\n",
       " [8.34333, 48.23396],\n",
       " [8.34358, 48.23393],\n",
       " [8.34387, 48.23379],\n",
       " [8.3441, 48.23389],\n",
       " [8.34422, 48.23404]]"
      ]
     },
     "execution_count": 8,
     "metadata": {},
     "output_type": "execute_result"
    }
   ],
   "source": [
    "decoded['coordinates'][:10]"
   ]
  },
  {
   "cell_type": "code",
   "execution_count": 9,
   "metadata": {},
   "outputs": [
    {
     "ename": "ValueError",
     "evalue": "Expected two (lat, lon) values for location, instead got: [48.267492, 8.416605, 48.214297, 8.327725].",
     "output_type": "error",
     "traceback": [
      "\u001b[1;31m---------------------------------------------------------------------------\u001b[0m",
      "\u001b[1;31mValueError\u001b[0m                                Traceback (most recent call last)",
      "Cell \u001b[1;32mIn[9], line 1\u001b[0m\n\u001b[1;32m----> 1\u001b[0m m\u001b[38;5;241m=\u001b[39m folium\u001b[38;5;241m.\u001b[39mMap(location \u001b[38;5;241m=\u001b[39m \u001b[38;5;28mlist\u001b[39m(\u001b[38;5;28mreversed\u001b[39m(routes[\u001b[38;5;124m'\u001b[39m\u001b[38;5;124mbbox\u001b[39m\u001b[38;5;124m'\u001b[39m])),zoom_start\u001b[38;5;241m=\u001b[39m\u001b[38;5;241m13\u001b[39m)\n",
      "File \u001b[1;32mc:\\Users\\marin\\anaconda3\\anaconda\\Lib\\site-packages\\folium\\folium.py:278\u001b[0m, in \u001b[0;36mMap.__init__\u001b[1;34m(self, location, width, height, left, top, position, tiles, attr, min_zoom, max_zoom, zoom_start, min_lat, max_lat, min_lon, max_lon, max_bounds, crs, control_scale, prefer_canvas, no_touch, disable_3d, png_enabled, zoom_control, font_size, **kwargs)\u001b[0m\n\u001b[0;32m    276\u001b[0m     zoom_start \u001b[38;5;241m=\u001b[39m \u001b[38;5;241m1\u001b[39m\n\u001b[0;32m    277\u001b[0m \u001b[38;5;28;01melse\u001b[39;00m:\n\u001b[1;32m--> 278\u001b[0m     \u001b[38;5;28mself\u001b[39m\u001b[38;5;241m.\u001b[39mlocation \u001b[38;5;241m=\u001b[39m validate_location(location)\n\u001b[0;32m    280\u001b[0m Figure()\u001b[38;5;241m.\u001b[39madd_child(\u001b[38;5;28mself\u001b[39m)\n\u001b[0;32m    282\u001b[0m \u001b[38;5;66;03m# Map Size Parameters.\u001b[39;00m\n",
      "File \u001b[1;32mc:\\Users\\marin\\anaconda3\\anaconda\\Lib\\site-packages\\folium\\utilities.py:81\u001b[0m, in \u001b[0;36mvalidate_location\u001b[1;34m(location)\u001b[0m\n\u001b[0;32m     75\u001b[0m     \u001b[38;5;28;01mraise\u001b[39;00m \u001b[38;5;167;01mTypeError\u001b[39;00m(\n\u001b[0;32m     76\u001b[0m         \u001b[38;5;124m\"\u001b[39m\u001b[38;5;124mLocation should be a sized variable, \u001b[39m\u001b[38;5;124m\"\u001b[39m\n\u001b[0;32m     77\u001b[0m         \u001b[38;5;124m\"\u001b[39m\u001b[38;5;124mfor example a list or a tuple, instead got \u001b[39m\u001b[38;5;124m\"\u001b[39m\n\u001b[0;32m     78\u001b[0m         \u001b[38;5;124mf\u001b[39m\u001b[38;5;124m\"\u001b[39m\u001b[38;5;132;01m{\u001b[39;00mlocation\u001b[38;5;132;01m!r}\u001b[39;00m\u001b[38;5;124m of type \u001b[39m\u001b[38;5;132;01m{\u001b[39;00m\u001b[38;5;28mtype\u001b[39m(location)\u001b[38;5;132;01m}\u001b[39;00m\u001b[38;5;124m.\u001b[39m\u001b[38;5;124m\"\u001b[39m\n\u001b[0;32m     79\u001b[0m     )\n\u001b[0;32m     80\u001b[0m \u001b[38;5;28;01mif\u001b[39;00m \u001b[38;5;28mlen\u001b[39m(location) \u001b[38;5;241m!=\u001b[39m \u001b[38;5;241m2\u001b[39m:\n\u001b[1;32m---> 81\u001b[0m     \u001b[38;5;28;01mraise\u001b[39;00m \u001b[38;5;167;01mValueError\u001b[39;00m(\n\u001b[0;32m     82\u001b[0m         \u001b[38;5;124m\"\u001b[39m\u001b[38;5;124mExpected two (lat, lon) values for location, \u001b[39m\u001b[38;5;124m\"\u001b[39m\n\u001b[0;32m     83\u001b[0m         \u001b[38;5;124mf\u001b[39m\u001b[38;5;124m\"\u001b[39m\u001b[38;5;124minstead got: \u001b[39m\u001b[38;5;132;01m{\u001b[39;00mlocation\u001b[38;5;132;01m!r}\u001b[39;00m\u001b[38;5;124m.\u001b[39m\u001b[38;5;124m\"\u001b[39m\n\u001b[0;32m     84\u001b[0m     )\n\u001b[0;32m     85\u001b[0m \u001b[38;5;28;01mtry\u001b[39;00m:\n\u001b[0;32m     86\u001b[0m     coords \u001b[38;5;241m=\u001b[39m (location[\u001b[38;5;241m0\u001b[39m], location[\u001b[38;5;241m1\u001b[39m])\n",
      "\u001b[1;31mValueError\u001b[0m: Expected two (lat, lon) values for location, instead got: [48.267492, 8.416605, 48.214297, 8.327725]."
     ]
    }
   ],
   "source": [
    "m= folium.Map(location = list(reversed(routes['bbox'])),zoom_start=13)\n"
   ]
  },
  {
   "cell_type": "code",
   "execution_count": null,
   "metadata": {},
   "outputs": [],
   "source": [
    "map_center = [(routes['bbox'][0] + routes['bbox'][2]) / 2, (routes['bbox'][1] + routes['bbox'][3]) / 2]\n",
    "\n",
    "#m= folium.Map(location = map_center,zoom_start=13)\n",
    "m= folium.Map(location = map_center,zoom_start=12)\n",
    "for i, coord in enumerate(coords):\n",
    "    folium.Marker(\n",
    "        location=coord,\n",
    "        popup=f\"Point {i+1}: {coord}\",\n",
    "        icon=folium.Icon(color=\"red\", icon=\"info-sign\")\n",
    "    ).add_to(m)\n",
    "folium.PolyLine(locations =  decoded['coordinates'],color='blue').add_to(m)\n",
    "m"
   ]
  },
  {
   "cell_type": "markdown",
   "metadata": {},
   "source": [
    "## Test Geocodage"
   ]
  },
  {
   "cell_type": "code",
   "execution_count": null,
   "metadata": {},
   "outputs": [],
   "source": [
    "\n",
    "def geocode_addresses(addresses,city):\n",
    "    \"\"\"\n",
    "    Géocode une liste d'adresses en utilisant l'API OpenRouteService.\n",
    "\n",
    "    :param addresses: Liste d'adresses (chaînes de caractères) à géocoder.\n",
    "    :param api_key: Clé API OpenRouteService.\n",
    "    :return: Liste de tuples (adresse, latitude, longitude).\n",
    "    \"\"\"\n",
    "    results = []\n",
    "    \n",
    "    for address in addresses:\n",
    "        try:\n",
    "            # Appeler l'API pour obtenir les coordonnées\n",
    "            response = client.pelias_search(text=f\"{address},{city}\")\n",
    "            if response and 'features' in response and response['features']:\n",
    "                # Extraire les coordonnées (longitude, latitude)\n",
    "                coordinates = response['features'][0]['geometry']['coordinates']\n",
    "                results.append((coordinates))  # Latitude, Longitude\n",
    "            else:\n",
    "                results.append((address, None, None))  # Aucune correspondance trouvée\n",
    "        except Exception as e:\n",
    "            print(f\"Erreur lors du géocodage de l'adresse '{address}': {e}\")\n",
    "            results.append((address, None, None))\n",
    "    \n",
    "    return results\n",
    "\n",
    "\n"
   ]
  },
  {
   "cell_type": "code",
   "execution_count": null,
   "metadata": {},
   "outputs": [],
   "source": [
    "tab=[]\n",
    "for adresse in list_act:\n",
    "    full_adresse = f\"{adresse},{ville}\"\n",
    "    response = client.pelias_search(full_adresse)\n",
    "    tab.append(list(reversed(response['features'][0]['geometry']['coordinates'])))"
   ]
  },
  {
   "cell_type": "code",
   "execution_count": 16,
   "metadata": {},
   "outputs": [],
   "source": [
    "\n",
    "def geocode_addresses_2(addresses,city):\n",
    "    \"\"\"\n",
    "    Géocode une liste d'adresses en utilisant l'API OpenRouteService.\n",
    "\n",
    "    :param addresses: Liste d'adresses (chaînes de caractères) à géocoder.\n",
    "    :param api_key: Clé API OpenRouteService.\n",
    "    :return: Liste de tuples (adresse, latitude, longitude).\n",
    "    \"\"\"\n",
    "    results = {}\n",
    "    geolocator = Nominatim(user_agent=\"test\")\n",
    "\n",
    "    for address in addresses:\n",
    "        try:\n",
    "            # Appeler l'API pour obtenir les coordonnées\n",
    "            location = geolocator.geocode(f\"{address},{city}\")\n",
    "            if location:\n",
    "                results[address] = [location.longitude,location.latitude]  # Latitude, Longitude\n",
    "            \n",
    "        except Exception as e:\n",
    "            print(f\"Erreur lors du géocodage de l'adresse '{address}': {e}\")\n",
    "    \n",
    "    return results\n",
    "\n",
    "\n",
    "\n"
   ]
  },
  {
   "cell_type": "code",
   "execution_count": null,
   "metadata": {},
   "outputs": [],
   "source": [
    "lieux = geocode_addresses_2(list_act,ville)\n",
    "\n"
   ]
  },
  {
   "cell_type": "code",
   "execution_count": null,
   "metadata": {},
   "outputs": [],
   "source": [
    "coords"
   ]
  },
  {
   "cell_type": "code",
   "execution_count": 10,
   "metadata": {},
   "outputs": [
    {
     "ename": "NameError",
     "evalue": "name 'lieux' is not defined",
     "output_type": "error",
     "traceback": [
      "\u001b[1;31m---------------------------------------------------------------------------\u001b[0m",
      "\u001b[1;31mNameError\u001b[0m                                 Traceback (most recent call last)",
      "Cell \u001b[1;32mIn[10], line 1\u001b[0m\n\u001b[1;32m----> 1\u001b[0m cod \u001b[38;5;241m=\u001b[39m \u001b[38;5;28mtuple\u001b[39m(\u001b[38;5;28mtuple\u001b[39m(coord) \u001b[38;5;28;01mfor\u001b[39;00m coord \u001b[38;5;129;01min\u001b[39;00m lieux\u001b[38;5;241m.\u001b[39mvalues())\n\u001b[0;32m      2\u001b[0m cod\n",
      "\u001b[1;31mNameError\u001b[0m: name 'lieux' is not defined"
     ]
    }
   ],
   "source": [
    "cod = tuple(tuple(coord) for coord in lieux.values())\n",
    "cod"
   ]
  },
  {
   "cell_type": "code",
   "execution_count": 11,
   "metadata": {},
   "outputs": [
    {
     "ename": "NameError",
     "evalue": "name 'lieux' is not defined",
     "output_type": "error",
     "traceback": [
      "\u001b[1;31m---------------------------------------------------------------------------\u001b[0m",
      "\u001b[1;31mNameError\u001b[0m                                 Traceback (most recent call last)",
      "Cell \u001b[1;32mIn[11], line 1\u001b[0m\n\u001b[1;32m----> 1\u001b[0m routes \u001b[38;5;241m=\u001b[39m client\u001b[38;5;241m.\u001b[39mdirections(\u001b[38;5;28mlist\u001b[39m(lieux\u001b[38;5;241m.\u001b[39mvalues()), profile\u001b[38;5;241m=\u001b[39m\u001b[38;5;124m'\u001b[39m\u001b[38;5;124mcycling-regular\u001b[39m\u001b[38;5;124m'\u001b[39m, optimize_waypoints\u001b[38;5;241m=\u001b[39m\u001b[38;5;28;01mTrue\u001b[39;00m)\n",
      "\u001b[1;31mNameError\u001b[0m: name 'lieux' is not defined"
     ]
    }
   ],
   "source": [
    "routes = client.directions(list(lieux.values()), profile='cycling-regular', optimize_waypoints=True)\n"
   ]
  },
  {
   "cell_type": "code",
   "execution_count": 12,
   "metadata": {},
   "outputs": [
    {
     "name": "stdout",
     "output_type": "stream",
     "text": [
      "27.862599999999997 km\n",
      "106.96166666666667 min\n"
     ]
    }
   ],
   "source": [
    "print(routes['routes'][0]['summary']['distance']/1000,\"km\")\n",
    "print(routes['routes'][0]['summary']['duration']/60,\"min\")"
   ]
  },
  {
   "cell_type": "code",
   "execution_count": 13,
   "metadata": {},
   "outputs": [],
   "source": [
    "def calculate_itinerary(adresses,city, profile = None):\n",
    "\n",
    "    coords = geocode_addresses_2(adresses,city)\n",
    "    routes = client.directions(list(coords.values()), profile=profile, optimize_waypoints=True)\n",
    "\n",
    "    map_center = [(routes['bbox'][0] + routes['bbox'][2]) / 2, (routes['bbox'][1] + routes['bbox'][3]) / 2]\n",
    "    geometry=routes['routes'][0]['geometry']\n",
    "    decoded = convert.decode_polyline(geometry)\n",
    "    #m= folium.Map(location = map_center,zoom_start=13)\n",
    "    m= folium.Map(location = list(reversed(map_center)),zoom_start=13)\n",
    "\n",
    "    for place, coord in coords.items():\n",
    "        folium.Marker(\n",
    "            location=list(reversed(coord)),\n",
    "            popup=f\"{place}\",\n",
    "            icon=folium.Icon(color=\"red\", icon=\"info-sign\")\n",
    "        ).add_to(m)\n",
    "\n",
    "    total_distance = routes['routes'][0]['summary']['distance']  # en mètres\n",
    "    total_duration = routes['routes'][0]['summary']['duration']  # en secondes\n",
    "   \n",
    "    # Texte dynamique\n",
    "    distance_km = total_distance / 1000\n",
    "    duration_minutes = total_duration / 60\n",
    "    popup_text = (\n",
    "        f\"<b>Total distance:</b> {distance_km:.2f} km<br>\"\n",
    "        f\"<b>Total duration:</b> {duration_minutes:.1f} minutes\"\n",
    "    )\n",
    "\n",
    "    folium.PolyLine(\n",
    "        locations =  [list(reversed(coord)) for coord in decoded['coordinates']],\n",
    "        color='blue',\n",
    "        weight = 5,\n",
    "        tooltip=popup_text,\n",
    "        ).add_to(m)\n",
    "\n",
    "    return m\n"
   ]
  },
  {
   "cell_type": "code",
   "execution_count": 14,
   "metadata": {},
   "outputs": [],
   "source": [
    "ville = 'Athènes'\n",
    "list_act = [\"musée de l'acropole\", \"parthenon\",\"plaka\",\"stade panathenaïque\",\"acropole\",\"stade panathenaïque\",\"mont lycabette\",\"musée archeologique national\",\"temple d'héphaïsteion\"]\n",
    "\n"
   ]
  },
  {
   "cell_type": "code",
   "execution_count": 17,
   "metadata": {},
   "outputs": [
    {
     "data": {
      "text/html": [
       "<div style=\"width:100%;\"><div style=\"position:relative;width:100%;height:0;padding-bottom:60%;\"><span style=\"color:#565656\">Make this Notebook Trusted to load map: File -> Trust Notebook</span><iframe srcdoc=\"&lt;!DOCTYPE html&gt;\n",
       "&lt;html&gt;\n",
       "&lt;head&gt;\n",
       "    \n",
       "    &lt;meta http-equiv=&quot;content-type&quot; content=&quot;text/html; charset=UTF-8&quot; /&gt;\n",
       "    \n",
       "        &lt;script&gt;\n",
       "            L_NO_TOUCH = false;\n",
       "            L_DISABLE_3D = false;\n",
       "        &lt;/script&gt;\n",
       "    \n",
       "    &lt;style&gt;html, body {width: 100%;height: 100%;margin: 0;padding: 0;}&lt;/style&gt;\n",
       "    &lt;style&gt;#map {position:absolute;top:0;bottom:0;right:0;left:0;}&lt;/style&gt;\n",
       "    &lt;script src=&quot;https://cdn.jsdelivr.net/npm/leaflet@1.9.3/dist/leaflet.js&quot;&gt;&lt;/script&gt;\n",
       "    &lt;script src=&quot;https://code.jquery.com/jquery-3.7.1.min.js&quot;&gt;&lt;/script&gt;\n",
       "    &lt;script src=&quot;https://cdn.jsdelivr.net/npm/bootstrap@5.2.2/dist/js/bootstrap.bundle.min.js&quot;&gt;&lt;/script&gt;\n",
       "    &lt;script src=&quot;https://cdnjs.cloudflare.com/ajax/libs/Leaflet.awesome-markers/2.0.2/leaflet.awesome-markers.js&quot;&gt;&lt;/script&gt;\n",
       "    &lt;link rel=&quot;stylesheet&quot; href=&quot;https://cdn.jsdelivr.net/npm/leaflet@1.9.3/dist/leaflet.css&quot;/&gt;\n",
       "    &lt;link rel=&quot;stylesheet&quot; href=&quot;https://cdn.jsdelivr.net/npm/bootstrap@5.2.2/dist/css/bootstrap.min.css&quot;/&gt;\n",
       "    &lt;link rel=&quot;stylesheet&quot; href=&quot;https://netdna.bootstrapcdn.com/bootstrap/3.0.0/css/bootstrap-glyphicons.css&quot;/&gt;\n",
       "    &lt;link rel=&quot;stylesheet&quot; href=&quot;https://cdn.jsdelivr.net/npm/@fortawesome/fontawesome-free@6.2.0/css/all.min.css&quot;/&gt;\n",
       "    &lt;link rel=&quot;stylesheet&quot; href=&quot;https://cdnjs.cloudflare.com/ajax/libs/Leaflet.awesome-markers/2.0.2/leaflet.awesome-markers.css&quot;/&gt;\n",
       "    &lt;link rel=&quot;stylesheet&quot; href=&quot;https://cdn.jsdelivr.net/gh/python-visualization/folium/folium/templates/leaflet.awesome.rotate.min.css&quot;/&gt;\n",
       "    \n",
       "            &lt;meta name=&quot;viewport&quot; content=&quot;width=device-width,\n",
       "                initial-scale=1.0, maximum-scale=1.0, user-scalable=no&quot; /&gt;\n",
       "            &lt;style&gt;\n",
       "                #map_a7aa1a7f8d0b7674458a99ab317cecfe {\n",
       "                    position: relative;\n",
       "                    width: 100.0%;\n",
       "                    height: 100.0%;\n",
       "                    left: 0.0%;\n",
       "                    top: 0.0%;\n",
       "                }\n",
       "                .leaflet-container { font-size: 1rem; }\n",
       "            &lt;/style&gt;\n",
       "        \n",
       "&lt;/head&gt;\n",
       "&lt;body&gt;\n",
       "    \n",
       "    \n",
       "            &lt;div class=&quot;folium-map&quot; id=&quot;map_a7aa1a7f8d0b7674458a99ab317cecfe&quot; &gt;&lt;/div&gt;\n",
       "        \n",
       "&lt;/body&gt;\n",
       "&lt;script&gt;\n",
       "    \n",
       "    \n",
       "            var map_a7aa1a7f8d0b7674458a99ab317cecfe = L.map(\n",
       "                &quot;map_a7aa1a7f8d0b7674458a99ab317cecfe&quot;,\n",
       "                {\n",
       "                    center: [37.9711425, 23.7311555],\n",
       "                    crs: L.CRS.EPSG3857,\n",
       "                    zoom: 13,\n",
       "                    zoomControl: true,\n",
       "                    preferCanvas: false,\n",
       "                }\n",
       "            );\n",
       "\n",
       "            \n",
       "\n",
       "        \n",
       "    \n",
       "            var tile_layer_e9845f79a820e1dbe476b9a8a729541b = L.tileLayer(\n",
       "                &quot;https://tile.openstreetmap.org/{z}/{x}/{y}.png&quot;,\n",
       "                {&quot;attribution&quot;: &quot;\\u0026copy; \\u003ca href=\\&quot;https://www.openstreetmap.org/copyright\\&quot;\\u003eOpenStreetMap\\u003c/a\\u003e contributors&quot;, &quot;detectRetina&quot;: false, &quot;maxNativeZoom&quot;: 19, &quot;maxZoom&quot;: 19, &quot;minZoom&quot;: 0, &quot;noWrap&quot;: false, &quot;opacity&quot;: 1, &quot;subdomains&quot;: &quot;abc&quot;, &quot;tms&quot;: false}\n",
       "            );\n",
       "        \n",
       "    \n",
       "            tile_layer_e9845f79a820e1dbe476b9a8a729541b.addTo(map_a7aa1a7f8d0b7674458a99ab317cecfe);\n",
       "        \n",
       "    \n",
       "            var marker_2a796d197a9383e710257b120edb3b6a = L.marker(\n",
       "                [37.9685331, 23.728470577939788],\n",
       "                {}\n",
       "            ).addTo(map_a7aa1a7f8d0b7674458a99ab317cecfe);\n",
       "        \n",
       "    \n",
       "            var icon_be43c3b8c4f81172d82755f71f7c470a = L.AwesomeMarkers.icon(\n",
       "                {&quot;extraClasses&quot;: &quot;fa-rotate-0&quot;, &quot;icon&quot;: &quot;info-sign&quot;, &quot;iconColor&quot;: &quot;white&quot;, &quot;markerColor&quot;: &quot;red&quot;, &quot;prefix&quot;: &quot;glyphicon&quot;}\n",
       "            );\n",
       "            marker_2a796d197a9383e710257b120edb3b6a.setIcon(icon_be43c3b8c4f81172d82755f71f7c470a);\n",
       "        \n",
       "    \n",
       "        var popup_24cb6e180be1db396e5eee824d8c58c1 = L.popup({&quot;maxWidth&quot;: &quot;100%&quot;});\n",
       "\n",
       "        \n",
       "            \n",
       "                var html_ba07299cbf4edafba2d7f3b771f05772 = $(`&lt;div id=&quot;html_ba07299cbf4edafba2d7f3b771f05772&quot; style=&quot;width: 100.0%; height: 100.0%;&quot;&gt;musée de l&#x27;acropole&lt;/div&gt;`)[0];\n",
       "                popup_24cb6e180be1db396e5eee824d8c58c1.setContent(html_ba07299cbf4edafba2d7f3b771f05772);\n",
       "            \n",
       "        \n",
       "\n",
       "        marker_2a796d197a9383e710257b120edb3b6a.bindPopup(popup_24cb6e180be1db396e5eee824d8c58c1)\n",
       "        ;\n",
       "\n",
       "        \n",
       "    \n",
       "    \n",
       "            var marker_361ceaaff852ee804046253ae5acdbb9 = L.marker(\n",
       "                [37.97150335, 23.72661765],\n",
       "                {}\n",
       "            ).addTo(map_a7aa1a7f8d0b7674458a99ab317cecfe);\n",
       "        \n",
       "    \n",
       "            var icon_5df0878f552cba9f224920615f4d61c5 = L.AwesomeMarkers.icon(\n",
       "                {&quot;extraClasses&quot;: &quot;fa-rotate-0&quot;, &quot;icon&quot;: &quot;info-sign&quot;, &quot;iconColor&quot;: &quot;white&quot;, &quot;markerColor&quot;: &quot;red&quot;, &quot;prefix&quot;: &quot;glyphicon&quot;}\n",
       "            );\n",
       "            marker_361ceaaff852ee804046253ae5acdbb9.setIcon(icon_5df0878f552cba9f224920615f4d61c5);\n",
       "        \n",
       "    \n",
       "        var popup_c77aec528b01c4c338c9bd4bd4fe3a11 = L.popup({&quot;maxWidth&quot;: &quot;100%&quot;});\n",
       "\n",
       "        \n",
       "            \n",
       "                var html_2ff3bf0d4382df8ba74d056ce31346cc = $(`&lt;div id=&quot;html_2ff3bf0d4382df8ba74d056ce31346cc&quot; style=&quot;width: 100.0%; height: 100.0%;&quot;&gt;parthenon&lt;/div&gt;`)[0];\n",
       "                popup_c77aec528b01c4c338c9bd4bd4fe3a11.setContent(html_2ff3bf0d4382df8ba74d056ce31346cc);\n",
       "            \n",
       "        \n",
       "\n",
       "        marker_361ceaaff852ee804046253ae5acdbb9.bindPopup(popup_c77aec528b01c4c338c9bd4bd4fe3a11)\n",
       "        ;\n",
       "\n",
       "        \n",
       "    \n",
       "    \n",
       "            var marker_da4570e50717183cc50e5bcd6bfb2c47 = L.marker(\n",
       "                [37.9728505, 23.7300556],\n",
       "                {}\n",
       "            ).addTo(map_a7aa1a7f8d0b7674458a99ab317cecfe);\n",
       "        \n",
       "    \n",
       "            var icon_28ba84c968a75598f7b7b4111ce1e6ea = L.AwesomeMarkers.icon(\n",
       "                {&quot;extraClasses&quot;: &quot;fa-rotate-0&quot;, &quot;icon&quot;: &quot;info-sign&quot;, &quot;iconColor&quot;: &quot;white&quot;, &quot;markerColor&quot;: &quot;red&quot;, &quot;prefix&quot;: &quot;glyphicon&quot;}\n",
       "            );\n",
       "            marker_da4570e50717183cc50e5bcd6bfb2c47.setIcon(icon_28ba84c968a75598f7b7b4111ce1e6ea);\n",
       "        \n",
       "    \n",
       "        var popup_1c36daa3cf371fe52d55cf1ab959e268 = L.popup({&quot;maxWidth&quot;: &quot;100%&quot;});\n",
       "\n",
       "        \n",
       "            \n",
       "                var html_3e1c9d291895cb2d47969f31638b57b1 = $(`&lt;div id=&quot;html_3e1c9d291895cb2d47969f31638b57b1&quot; style=&quot;width: 100.0%; height: 100.0%;&quot;&gt;plaka&lt;/div&gt;`)[0];\n",
       "                popup_1c36daa3cf371fe52d55cf1ab959e268.setContent(html_3e1c9d291895cb2d47969f31638b57b1);\n",
       "            \n",
       "        \n",
       "\n",
       "        marker_da4570e50717183cc50e5bcd6bfb2c47.bindPopup(popup_1c36daa3cf371fe52d55cf1ab959e268)\n",
       "        ;\n",
       "\n",
       "        \n",
       "    \n",
       "    \n",
       "            var marker_ce0876d7d23a06d980932232942745e8 = L.marker(\n",
       "                [37.96843565, 23.740398366417093],\n",
       "                {}\n",
       "            ).addTo(map_a7aa1a7f8d0b7674458a99ab317cecfe);\n",
       "        \n",
       "    \n",
       "            var icon_d8cfc08aa0b435683a57eefd52cc31ef = L.AwesomeMarkers.icon(\n",
       "                {&quot;extraClasses&quot;: &quot;fa-rotate-0&quot;, &quot;icon&quot;: &quot;info-sign&quot;, &quot;iconColor&quot;: &quot;white&quot;, &quot;markerColor&quot;: &quot;red&quot;, &quot;prefix&quot;: &quot;glyphicon&quot;}\n",
       "            );\n",
       "            marker_ce0876d7d23a06d980932232942745e8.setIcon(icon_d8cfc08aa0b435683a57eefd52cc31ef);\n",
       "        \n",
       "    \n",
       "        var popup_05571956f65dd935a5243de97aeb9105 = L.popup({&quot;maxWidth&quot;: &quot;100%&quot;});\n",
       "\n",
       "        \n",
       "            \n",
       "                var html_938d4eafe376cfbba4795d9ce0693170 = $(`&lt;div id=&quot;html_938d4eafe376cfbba4795d9ce0693170&quot; style=&quot;width: 100.0%; height: 100.0%;&quot;&gt;stade panathenaïque&lt;/div&gt;`)[0];\n",
       "                popup_05571956f65dd935a5243de97aeb9105.setContent(html_938d4eafe376cfbba4795d9ce0693170);\n",
       "            \n",
       "        \n",
       "\n",
       "        marker_ce0876d7d23a06d980932232942745e8.bindPopup(popup_05571956f65dd935a5243de97aeb9105)\n",
       "        ;\n",
       "\n",
       "        \n",
       "    \n",
       "    \n",
       "            var marker_d9eff272e315162b5538b4979d378059 = L.marker(\n",
       "                [37.971689350000005, 23.726319700616585],\n",
       "                {}\n",
       "            ).addTo(map_a7aa1a7f8d0b7674458a99ab317cecfe);\n",
       "        \n",
       "    \n",
       "            var icon_bfdf0a9a4194074985919186f3439759 = L.AwesomeMarkers.icon(\n",
       "                {&quot;extraClasses&quot;: &quot;fa-rotate-0&quot;, &quot;icon&quot;: &quot;info-sign&quot;, &quot;iconColor&quot;: &quot;white&quot;, &quot;markerColor&quot;: &quot;red&quot;, &quot;prefix&quot;: &quot;glyphicon&quot;}\n",
       "            );\n",
       "            marker_d9eff272e315162b5538b4979d378059.setIcon(icon_bfdf0a9a4194074985919186f3439759);\n",
       "        \n",
       "    \n",
       "        var popup_2ca9e8806d64410abca84a944b42587e = L.popup({&quot;maxWidth&quot;: &quot;100%&quot;});\n",
       "\n",
       "        \n",
       "            \n",
       "                var html_d79af417f8926b5e04c9bf003ddd6eea = $(`&lt;div id=&quot;html_d79af417f8926b5e04c9bf003ddd6eea&quot; style=&quot;width: 100.0%; height: 100.0%;&quot;&gt;acropole&lt;/div&gt;`)[0];\n",
       "                popup_2ca9e8806d64410abca84a944b42587e.setContent(html_d79af417f8926b5e04c9bf003ddd6eea);\n",
       "            \n",
       "        \n",
       "\n",
       "        marker_d9eff272e315162b5538b4979d378059.bindPopup(popup_2ca9e8806d64410abca84a944b42587e)\n",
       "        ;\n",
       "\n",
       "        \n",
       "    \n",
       "    \n",
       "            var marker_c97a1887af2dc6593d6b684e3c6a84c4 = L.marker(\n",
       "                [37.975604000000004, 23.721411699999997],\n",
       "                {}\n",
       "            ).addTo(map_a7aa1a7f8d0b7674458a99ab317cecfe);\n",
       "        \n",
       "    \n",
       "            var icon_3c4d82a398ae1ba866fb86285e5ed2b6 = L.AwesomeMarkers.icon(\n",
       "                {&quot;extraClasses&quot;: &quot;fa-rotate-0&quot;, &quot;icon&quot;: &quot;info-sign&quot;, &quot;iconColor&quot;: &quot;white&quot;, &quot;markerColor&quot;: &quot;red&quot;, &quot;prefix&quot;: &quot;glyphicon&quot;}\n",
       "            );\n",
       "            marker_c97a1887af2dc6593d6b684e3c6a84c4.setIcon(icon_3c4d82a398ae1ba866fb86285e5ed2b6);\n",
       "        \n",
       "    \n",
       "        var popup_13313a49dc4e2de32234c1c7b8d1a8e1 = L.popup({&quot;maxWidth&quot;: &quot;100%&quot;});\n",
       "\n",
       "        \n",
       "            \n",
       "                var html_ddcf8995a0afe9e63cbd16506c2a339e = $(`&lt;div id=&quot;html_ddcf8995a0afe9e63cbd16506c2a339e&quot; style=&quot;width: 100.0%; height: 100.0%;&quot;&gt;temple d&#x27;héphaïsteion&lt;/div&gt;`)[0];\n",
       "                popup_13313a49dc4e2de32234c1c7b8d1a8e1.setContent(html_ddcf8995a0afe9e63cbd16506c2a339e);\n",
       "            \n",
       "        \n",
       "\n",
       "        marker_c97a1887af2dc6593d6b684e3c6a84c4.bindPopup(popup_13313a49dc4e2de32234c1c7b8d1a8e1)\n",
       "        ;\n",
       "\n",
       "        \n",
       "    \n",
       "    \n",
       "            var poly_line_0945b75fe6fcd7dc9169f2584fd09470 = L.polyline(\n",
       "                [[37.9687, 23.72824], [37.96876, 23.72831], [37.96891, 23.72827], [37.96892, 23.72822], [37.96895, 23.72823], [37.9692, 23.72834], [37.96926, 23.72836], [37.9694, 23.7284], [37.96944, 23.72842], [37.96952, 23.72779], [37.96953, 23.72771], [37.96961, 23.72688], [37.96963, 23.72676], [37.96965, 23.7266], [37.96971, 23.72615], [37.96977, 23.72574], [37.96981, 23.72534], [37.96985, 23.72502], [37.9699, 23.72502], [37.96993, 23.72477], [37.96997, 23.72447], [37.97001, 23.72416], [37.97004, 23.72395], [37.9702, 23.72398], [37.9704, 23.72382], [37.97046, 23.72388], [37.97052, 23.7239], [37.97086, 23.72387], [37.9709, 23.72384], [37.97095, 23.72373], [37.97103, 23.72375], [37.97117, 23.72375], [37.97122, 23.72375], [37.97123, 23.72373], [37.97119, 23.72404], [37.9712, 23.72408], [37.97131, 23.72422], [37.97128, 23.72435], [37.97134, 23.72441], [37.97143, 23.72447], [37.97161, 23.72452], [37.97162, 23.72461], [37.97162, 23.72462], [37.97163, 23.72463], [37.97161, 23.72464], [37.97159, 23.72464], [37.97156, 23.72465], [37.97156, 23.72467], [37.97156, 23.72469], [37.97157, 23.72475], [37.9716, 23.72478], [37.97181, 23.72477], [37.97181, 23.72479], [37.97182, 23.72482], [37.97182, 23.72483], [37.97182, 23.72487], [37.97182, 23.72488], [37.97179, 23.72488], [37.97176, 23.7249], [37.97176, 23.72491], [37.97176, 23.72493], [37.97172, 23.72498], [37.97169, 23.72498], [37.97168, 23.72499], [37.97169, 23.72503], [37.97169, 23.72504], [37.97169, 23.72505], [37.9717, 23.72508], [37.9717, 23.72508], [37.9717, 23.72511], [37.9717, 23.72512], [37.97171, 23.72516], [37.97173, 23.7253], [37.97172, 23.72545], [37.97169, 23.7256], [37.97168, 23.72567], [37.97169, 23.72591], [37.97169, 23.7261], [37.97172, 23.72631], [37.97173, 23.72643], [37.97175, 23.72657], [37.97173, 23.72643], [37.97169, 23.7261], [37.97169, 23.72591], [37.97168, 23.72567], [37.97169, 23.7256], [37.97172, 23.72545], [37.97175, 23.7253], [37.97173, 23.72516], [37.97171, 23.72508], [37.97171, 23.72507], [37.97171, 23.72505], [37.97171, 23.72504], [37.9717, 23.72502], [37.9717, 23.72499], [37.97169, 23.72498], [37.97172, 23.72498], [37.97176, 23.72493], [37.97176, 23.72491], [37.97176, 23.7249], [37.97179, 23.72488], [37.97182, 23.72488], [37.97182, 23.72487], [37.97182, 23.72483], [37.97182, 23.72482], [37.97181, 23.72479], [37.97181, 23.72477], [37.9716, 23.72478], [37.97157, 23.72475], [37.97156, 23.72469], [37.97156, 23.72467], [37.97156, 23.72465], [37.97159, 23.72464], [37.97161, 23.72464], [37.97163, 23.72463], [37.97162, 23.72462], [37.97162, 23.72461], [37.97161, 23.72452], [37.97143, 23.72447], [37.97134, 23.72441], [37.97128, 23.72435], [37.97131, 23.72422], [37.9712, 23.72408], [37.97119, 23.72404], [37.97123, 23.72373], [37.97122, 23.72375], [37.97117, 23.72375], [37.97103, 23.72375], [37.97095, 23.72373], [37.9709, 23.72384], [37.97086, 23.72387], [37.97052, 23.7239], [37.97046, 23.72388], [37.9704, 23.72382], [37.9702, 23.72398], [37.97004, 23.72395], [37.97001, 23.72416], [37.96997, 23.72447], [37.96993, 23.72477], [37.9699, 23.72502], [37.96985, 23.72502], [37.96981, 23.72534], [37.96977, 23.72574], [37.96971, 23.72615], [37.96965, 23.7266], [37.96963, 23.72676], [37.96961, 23.72688], [37.9695, 23.72686], [37.96914, 23.72679], [37.96843, 23.72663], [37.96803, 23.72655], [37.96779, 23.7265], [37.96715, 23.72728], [37.96706, 23.72739], [37.96683, 23.7277], [37.96666, 23.7279], [37.96641, 23.7282], [37.96607, 23.72861], [37.96601, 23.7287], [37.96546, 23.72943], [37.96534, 23.72958], [37.96526, 23.72963], [37.96536, 23.73005], [37.96541, 23.73024], [37.96545, 23.73037], [37.96543, 23.73046], [37.96542, 23.73091], [37.96539, 23.73146], [37.96557, 23.73163], [37.9659, 23.73206], [37.96598, 23.73195], [37.96662, 23.73236], [37.96647, 23.73276], [37.96706, 23.73308], [37.96708, 23.73324], [37.96709, 23.73335], [37.9671, 23.73347], [37.96711, 23.73356], [37.96712, 23.73365], [37.96715, 23.73394], [37.9672, 23.73424], [37.96726, 23.73446], [37.96733, 23.7346], [37.9676, 23.73494], [37.96767, 23.73507], [37.96774, 23.73524], [37.96777, 23.73541], [37.9678, 23.73576], [37.96782, 23.73607], [37.96786, 23.73632], [37.96799, 23.73682], [37.96816, 23.73733], [37.96828, 23.73758], [37.96864, 23.73798], [37.96883, 23.73816], [37.96891, 23.73824], [37.96902, 23.73838], [37.96914, 23.73854], [37.96922, 23.73867], [37.96973, 23.7397], [37.96974, 23.73974], [37.96968, 23.73978], [37.96977, 23.73997], [37.96991, 23.74027], [37.96998, 23.74037], [37.97002, 23.74047], [37.96996, 23.74054], [37.96959, 23.74087], [37.96953, 23.74092], [37.96925, 23.74035], [37.96905, 23.7405], [37.96895, 23.7403], [37.96908, 23.74021], [37.96898, 23.73998], [37.96885, 23.74008], [37.96872, 23.74017], [37.9686, 23.74026], [37.96847, 23.74035], [37.96843, 23.74038], [37.96847, 23.74035], [37.9686, 23.74026], [37.96872, 23.74017], [37.96885, 23.74008], [37.96898, 23.73998], [37.96908, 23.74021], [37.96895, 23.7403], [37.96905, 23.7405], [37.96925, 23.74035], [37.96953, 23.74092], [37.96959, 23.74087], [37.96996, 23.74054], [37.97002, 23.74047], [37.96998, 23.74037], [37.96991, 23.74027], [37.96977, 23.73997], [37.96968, 23.73978], [37.96974, 23.73974], [37.96985, 23.73966], [37.96976, 23.73948], [37.96931, 23.73852], [37.96929, 23.73837], [37.96926, 23.73819], [37.96921, 23.73763], [37.96922, 23.73741], [37.96927, 23.73708], [37.96935, 23.73679], [37.96958, 23.73611], [37.97026, 23.73443], [37.97032, 23.73429], [37.9706, 23.73359], [37.97085, 23.7331], [37.97089, 23.73303], [37.97097, 23.73288], [37.97085, 23.73279], [37.97082, 23.73276], [37.9707, 23.73262], [37.97056, 23.73238], [37.97042, 23.73194], [37.97036, 23.73184], [37.9703, 23.73177], [37.97035, 23.73166], [37.97043, 23.73146], [37.97075, 23.73072], [37.97079, 23.73064], [37.97089, 23.73041], [37.97103, 23.73009], [37.97107, 23.73005], [37.9711, 23.73004], [37.97123, 23.73005], [37.9716, 23.7301], [37.97214, 23.72985], [37.97223, 23.72978], [37.9725, 23.72949], [37.97257, 23.72942], [37.97258, 23.72941], [37.973, 23.7291], [37.97312, 23.72904], [37.97316, 23.72905], [37.97322, 23.72909], [37.97337, 23.72944], [37.97339, 23.72949], [37.97353, 23.72987], [37.97357, 23.73003], [37.97331, 23.73012], [37.97299, 23.73023], [37.97294, 23.73006], [37.97299, 23.73023], [37.97331, 23.73012], [37.97357, 23.73003], [37.97359, 23.73014], [37.9737, 23.73093], [37.97416, 23.73078], [37.97463, 23.73071], [37.97464, 23.7308], [37.97506, 23.73082], [37.97539, 23.73084], [37.9754, 23.73084], [37.97544, 23.73048], [37.97552, 23.72995], [37.97575, 23.72885], [37.97588, 23.72829], [37.97609, 23.72752], [37.97612, 23.72748], [37.97652, 23.72757], [37.97655, 23.72737], [37.97659, 23.72708], [37.97661, 23.7269], [37.97664, 23.72673], [37.97671, 23.72614], [37.97672, 23.7261], [37.97674, 23.72589], [37.97676, 23.72569], [37.97682, 23.72524], [37.97686, 23.72494], [37.97692, 23.72447], [37.97693, 23.72438], [37.97698, 23.72405], [37.97702, 23.72368], [37.97685, 23.72351], [37.97649, 23.72325], [37.97639, 23.72319], [37.97628, 23.72311], [37.97607, 23.72292], [37.97597, 23.72324], [37.97587, 23.72322], [37.9758, 23.72322], [37.97576, 23.72324], [37.97571, 23.72312], [37.97573, 23.72304], [37.97579, 23.72284], [37.97581, 23.72267], [37.97586, 23.72248], [37.97538, 23.72239], [37.9754, 23.72231], [37.97548, 23.72201], [37.97551, 23.722], [37.97565, 23.72201], [37.9757, 23.72199], [37.97569, 23.72193], [37.97559, 23.72187], [37.97563, 23.72167], [37.97548, 23.72164], [37.97552, 23.72139]],\n",
       "                {&quot;bubblingMouseEvents&quot;: true, &quot;color&quot;: &quot;blue&quot;, &quot;dashArray&quot;: null, &quot;dashOffset&quot;: null, &quot;fill&quot;: false, &quot;fillColor&quot;: &quot;blue&quot;, &quot;fillOpacity&quot;: 0.2, &quot;fillRule&quot;: &quot;evenodd&quot;, &quot;lineCap&quot;: &quot;round&quot;, &quot;lineJoin&quot;: &quot;round&quot;, &quot;noClip&quot;: false, &quot;opacity&quot;: 1.0, &quot;smoothFactor&quot;: 1.0, &quot;stroke&quot;: true, &quot;weight&quot;: 5}\n",
       "            ).addTo(map_a7aa1a7f8d0b7674458a99ab317cecfe);\n",
       "        \n",
       "    \n",
       "            poly_line_0945b75fe6fcd7dc9169f2584fd09470.bindTooltip(\n",
       "                `&lt;div&gt;\n",
       "                     &lt;b&gt;Total distance:&lt;/b&gt; 7.06 km&lt;br&gt;&lt;b&gt;Total duration:&lt;/b&gt; 37.9 minutes\n",
       "                 &lt;/div&gt;`,\n",
       "                {&quot;sticky&quot;: true}\n",
       "            );\n",
       "        \n",
       "&lt;/script&gt;\n",
       "&lt;/html&gt;\" style=\"position:absolute;width:100%;height:100%;left:0;top:0;border:none !important;\" allowfullscreen webkitallowfullscreen mozallowfullscreen></iframe></div></div>"
      ],
      "text/plain": [
       "<folium.folium.Map at 0x192b5cae290>"
      ]
     },
     "execution_count": 17,
     "metadata": {},
     "output_type": "execute_result"
    }
   ],
   "source": [
    "m=calculate_itinerary(list_act,ville,'cycling-regular')\n",
    "m"
   ]
  },
  {
   "cell_type": "code",
   "execution_count": null,
   "metadata": {},
   "outputs": [],
   "source": [
    "address = 'la tour eiffel'\n",
    "city = 'paris'\n",
    "response = client.pelias_search(text=f\"{address},{city}\")"
   ]
  },
  {
   "cell_type": "code",
   "execution_count": null,
   "metadata": {},
   "outputs": [],
   "source": [
    "coordinates = response['features'][0]['geometry']['coordinates']"
   ]
  },
  {
   "cell_type": "code",
   "execution_count": null,
   "metadata": {},
   "outputs": [],
   "source": [
    "list(reversed(coordinates))"
   ]
  },
  {
   "cell_type": "code",
   "execution_count": null,
   "metadata": {},
   "outputs": [],
   "source": [
    "geolocator = Nominatim(user_agent=\"test\")\n",
    "tab=[]\n",
    "city=\"athenes\"\n",
    "for address in list_act:\n",
    "    location = geolocator.geocode(f\"{address},{city}\")\n",
    "    #time.sleep(1)\n",
    "    if location is not None:\n",
    "          tab.append([location.latitude,location.longitude])\n",
    "    else:\n",
    "         tab.append([None,None])"
   ]
  },
  {
   "cell_type": "code",
   "execution_count": null,
   "metadata": {},
   "outputs": [],
   "source": [
    "location = geolocator.geocode(f\"mont lycabette,{city}\")\n",
    "\n",
    "location"
   ]
  },
  {
   "cell_type": "code",
   "execution_count": null,
   "metadata": {},
   "outputs": [],
   "source": [
    "type(location)"
   ]
  },
  {
   "cell_type": "code",
   "execution_count": 10,
   "metadata": {},
   "outputs": [
    {
     "name": "stdout",
     "output_type": "stream",
     "text": [
      "City 'amien, france' not found.\n"
     ]
    }
   ],
   "source": [
    "from geopy.geocoders import Nominatim\n",
    "from geopy.exc import GeopyError\n",
    "\n",
    "def test(city_name):\n",
    "    \"\"\"\n",
    "    Valide et récupère le nom standardisé d'une ville en anglais via l'API Nominatim d'OpenStreetMap.\n",
    "    \n",
    "    Args:\n",
    "        city_name (str): Le nom de la ville à valider.\n",
    "        \n",
    "    Returns:\n",
    "        str: Le nom standardisé de la ville en anglais, ou None si la ville n'est pas trouvée.\n",
    "    \"\"\"\n",
    "    # Initialiser le géolocalisateur avec un user_agent\n",
    "    geolocator = Nominatim(user_agent=\"city_validation_test\")\n",
    "    \n",
    "    try:\n",
    "        # Rechercher la ville, en demandant les résultats en anglais\n",
    "        location = geolocator.geocode(city_name, addressdetails=True, exactly_one=True, language='en')\n",
    "        \n",
    "        if location:\n",
    "            # Extraction du nom de la ville en anglais\n",
    "            standardized_name = location.address.split(\",\")[0]\n",
    "            print(f\"City found: {standardized_name}\")\n",
    "            return standardized_name\n",
    "        else:\n",
    "            print(f\"City '{city_name}' not found.\")\n",
    "            return None\n",
    "    except GeopyError as e:\n",
    "        print(f\"Error querying city API: {e}\")\n",
    "        return None\n",
    "\n",
    "# Exemple d'utilisation\n",
    "test('amien, france')\n"
   ]
  },
  {
   "cell_type": "code",
   "execution_count": 21,
   "metadata": {},
   "outputs": [
    {
     "name": "stdout",
     "output_type": "stream",
     "text": [
      "City 'teegoifvndl' in 'france' not found.\n",
      "City found: Amiens, France\n",
      "Amiens, France\n"
     ]
    }
   ],
   "source": [
    "from geopy.geocoders import Nominatim\n",
    "from geopy.exc import GeopyError\n",
    "\n",
    "def test(city_name, country_name):\n",
    "    \"\"\"\n",
    "    Valide et récupère le nom standardisé d'une ville avec le pays en anglais via l'API Nominatim d'OpenStreetMap.\n",
    "    Permet d'envoyer à la fois le nom de la ville et du pays pour une recherche plus précise.\n",
    "    \n",
    "    Args:\n",
    "        city_name (str): Le nom de la ville à valider.\n",
    "        country_name (str): Le nom du pays dans lequel chercher la ville.\n",
    "        \n",
    "    Returns:\n",
    "        str: Le nom standardisé de la ville et du pays en anglais, ou None si la ville n'est pas trouvée.\n",
    "    \"\"\"\n",
    "    # Initialiser le géolocalisateur avec un user_agent\n",
    "    geolocator = Nominatim(user_agent=\"city_validation_test\")\n",
    "    \n",
    "    try:\n",
    "        # Formater la requête avec la ville et le pays\n",
    "        query = f\"{city_name}, {country_name}\"\n",
    "        \n",
    "        # Rechercher la ville dans le pays, en demandant les résultats en anglais\n",
    "        location = geolocator.geocode(query, addressdetails=True, exactly_one=True, language='en')\n",
    "        \n",
    "        if location:\n",
    "            # Extraction du nom de la ville et du pays en anglais\n",
    "            address_parts = location.address.split(\", \")\n",
    "            # On prend la première partie (ville) et la dernière (pays)\n",
    "            city_and_country = f\"{address_parts[0]}, {address_parts[-1]}\"\n",
    "            print(f\"City found: {city_and_country}\")\n",
    "            return city_and_country\n",
    "        else:\n",
    "            print(f\"City '{city_name}' in '{country_name}' not found.\")\n",
    "            return test(input(\"enter a city\"),input(\"enter a country\"))\n",
    "    except GeopyError as e:\n",
    "        print(f\"Error querying city API: {e}\")\n",
    "        \n",
    "\n",
    "# Exemple d'utilisation\n",
    "a = test('teegoifvndl', 'france')\n",
    "print(a)\n"
   ]
  },
  {
   "cell_type": "code",
   "execution_count": null,
   "metadata": {},
   "outputs": [],
   "source": []
  }
 ],
 "metadata": {
  "kernelspec": {
   "display_name": ".venv",
   "language": "python",
   "name": "python3"
  },
  "language_info": {
   "codemirror_mode": {
    "name": "ipython",
    "version": 3
   },
   "file_extension": ".py",
   "mimetype": "text/x-python",
   "name": "python",
   "nbconvert_exporter": "python",
   "pygments_lexer": "ipython3",
   "version": "3.10.4"
  }
 },
 "nbformat": 4,
 "nbformat_minor": 2
}
