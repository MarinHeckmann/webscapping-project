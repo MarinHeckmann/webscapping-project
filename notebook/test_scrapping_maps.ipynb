{
 "cells": [
  {
   "cell_type": "markdown",
   "metadata": {},
   "source": [
    "# Test scrapping "
   ]
  },
  {
   "cell_type": "code",
   "execution_count": 1,
   "metadata": {},
   "outputs": [],
   "source": [
    "from dotenv import load_dotenv\n",
    "import os\n",
    "import openrouteservice\n",
    "from openrouteservice import convert\n",
    "import folium\n",
    "import geopy\n",
    "from geopy.geocoders import Nominatim\n",
    "import time\n",
    "\n"
   ]
  },
  {
   "cell_type": "code",
   "execution_count": 2,
   "metadata": {},
   "outputs": [],
   "source": [
    "load_dotenv()\n",
    "api_key = os.getenv('openroute_api_key')\n"
   ]
  },
  {
   "cell_type": "code",
   "execution_count": 3,
   "metadata": {},
   "outputs": [],
   "source": [
    "client = openrouteservice.Client(key=api_key) # Specify your personal API key\n"
   ]
  },
  {
   "cell_type": "code",
   "execution_count": null,
   "metadata": {},
   "outputs": [],
   "source": [
    "coords = ((8.34234,48.23424),(8.34423,48.26424))\n",
    "routes = client.directions(coords)\n",
    "\n",
    "print(routes)"
   ]
  },
  {
   "cell_type": "code",
   "execution_count": null,
   "metadata": {},
   "outputs": [],
   "source": [
    "coords = ((8.34234,48.23424),(8.34423,48.26424), (8.34523,48.24424), (8.41423,48.21424),(8.34234,48.23424))\n",
    "\n",
    "routes = client.directions(coords, profile='cycling-regular', optimize_waypoints=True)\n",
    "\n",
    "print(routes)"
   ]
  },
  {
   "cell_type": "code",
   "execution_count": null,
   "metadata": {},
   "outputs": [],
   "source": [
    "routes['routes'][0]['geometry']"
   ]
  },
  {
   "cell_type": "code",
   "execution_count": 7,
   "metadata": {},
   "outputs": [],
   "source": [
    "geometry=routes['routes'][0]['geometry']\n",
    "decoded = convert.decode_polyline(geometry)\n"
   ]
  },
  {
   "cell_type": "code",
   "execution_count": null,
   "metadata": {},
   "outputs": [],
   "source": [
    "decoded['coordinates'][:10]"
   ]
  },
  {
   "cell_type": "code",
   "execution_count": null,
   "metadata": {},
   "outputs": [],
   "source": [
    "m= folium.Map(location = list(reversed(routes['bbox'])),zoom_start=13)\n"
   ]
  },
  {
   "cell_type": "code",
   "execution_count": null,
   "metadata": {},
   "outputs": [],
   "source": [
    "map_center = [(routes['bbox'][0] + routes['bbox'][2]) / 2, (routes['bbox'][1] + routes['bbox'][3]) / 2]\n",
    "\n",
    "#m= folium.Map(location = map_center,zoom_start=13)\n",
    "m= folium.Map(location = map_center,zoom_start=12)\n",
    "for i, coord in enumerate(coords):\n",
    "    folium.Marker(\n",
    "        location=coord,\n",
    "        popup=f\"Point {i+1}: {coord}\",\n",
    "        icon=folium.Icon(color=\"red\", icon=\"info-sign\")\n",
    "    ).add_to(m)\n",
    "folium.PolyLine(locations =  decoded['coordinates'],color='blue').add_to(m)\n",
    "m"
   ]
  },
  {
   "cell_type": "markdown",
   "metadata": {},
   "source": [
    "## Test Geocodage"
   ]
  },
  {
   "cell_type": "code",
   "execution_count": null,
   "metadata": {},
   "outputs": [],
   "source": [
    "\n",
    "def geocode_addresses(addresses,city):\n",
    "    \"\"\"\n",
    "    Géocode une liste d'adresses en utilisant l'API OpenRouteService.\n",
    "\n",
    "    :param addresses: Liste d'adresses (chaînes de caractères) à géocoder.\n",
    "    :param api_key: Clé API OpenRouteService.\n",
    "    :return: Liste de tuples (adresse, latitude, longitude).\n",
    "    \"\"\"\n",
    "    results = []\n",
    "    \n",
    "    for address in addresses:\n",
    "        try:\n",
    "            # Appeler l'API pour obtenir les coordonnées\n",
    "            response = client.pelias_search(text=f\"{address},{city}\")\n",
    "            if response and 'features' in response and response['features']:\n",
    "                # Extraire les coordonnées (longitude, latitude)\n",
    "                coordinates = response['features'][0]['geometry']['coordinates']\n",
    "                results.append((coordinates))  # Latitude, Longitude\n",
    "            else:\n",
    "                results.append((address, None, None))  # Aucune correspondance trouvée\n",
    "        except Exception as e:\n",
    "            print(f\"Erreur lors du géocodage de l'adresse '{address}': {e}\")\n",
    "            results.append((address, None, None))\n",
    "    \n",
    "    return results\n",
    "\n",
    "\n"
   ]
  },
  {
   "cell_type": "code",
   "execution_count": null,
   "metadata": {},
   "outputs": [],
   "source": [
    "tab=[]\n",
    "for adresse in list_act:\n",
    "    full_adresse = f\"{adresse},{ville}\"\n",
    "    response = client.pelias_search(full_adresse)\n",
    "    tab.append(list(reversed(response['features'][0]['geometry']['coordinates'])))"
   ]
  },
  {
   "cell_type": "code",
   "execution_count": 16,
   "metadata": {},
   "outputs": [],
   "source": [
    "\n",
    "def geocode_addresses_2(addresses,city):\n",
    "    \"\"\"\n",
    "    Géocode une liste d'adresses en utilisant l'API OpenRouteService.\n",
    "\n",
    "    :param addresses: Liste d'adresses (chaînes de caractères) à géocoder.\n",
    "    :param api_key: Clé API OpenRouteService.\n",
    "    :return: Liste de tuples (adresse, latitude, longitude).\n",
    "    \"\"\"\n",
    "    results = {}\n",
    "    geolocator = Nominatim(user_agent=\"test\")\n",
    "\n",
    "    for address in addresses:\n",
    "        try:\n",
    "            # Appeler l'API pour obtenir les coordonnées\n",
    "            location = geolocator.geocode(f\"{address},{city}\")\n",
    "            if location:\n",
    "                results[address] = [location.longitude,location.latitude]  # Latitude, Longitude\n",
    "            \n",
    "        except Exception as e:\n",
    "            print(f\"Erreur lors du géocodage de l'adresse '{address}': {e}\")\n",
    "    \n",
    "    return results\n",
    "\n",
    "\n",
    "\n"
   ]
  },
  {
   "cell_type": "code",
   "execution_count": null,
   "metadata": {},
   "outputs": [],
   "source": [
    "lieux = geocode_addresses_2(list_act,ville)\n",
    "\n"
   ]
  },
  {
   "cell_type": "code",
   "execution_count": null,
   "metadata": {},
   "outputs": [],
   "source": [
    "coords"
   ]
  },
  {
   "cell_type": "code",
   "execution_count": null,
   "metadata": {},
   "outputs": [],
   "source": [
    "cod = tuple(tuple(coord) for coord in lieux.values())\n",
    "cod"
   ]
  },
  {
   "cell_type": "code",
   "execution_count": null,
   "metadata": {},
   "outputs": [],
   "source": [
    "routes = client.directions(list(lieux.values()), profile='cycling-regular', optimize_waypoints=True)\n"
   ]
  },
  {
   "cell_type": "code",
   "execution_count": null,
   "metadata": {},
   "outputs": [],
   "source": [
    "print(routes['routes'][0]['summary']['distance']/1000,\"km\")\n",
    "print(routes['routes'][0]['summary']['duration']/60,\"min\")"
   ]
  },
  {
   "cell_type": "code",
   "execution_count": 13,
   "metadata": {},
   "outputs": [],
   "source": [
    "def calculate_itinerary(adresses,city, profile = None):\n",
    "\n",
    "    coords = geocode_addresses_2(adresses,city)\n",
    "    routes = client.directions(list(coords.values()), profile=profile, optimize_waypoints=True)\n",
    "\n",
    "    map_center = [(routes['bbox'][0] + routes['bbox'][2]) / 2, (routes['bbox'][1] + routes['bbox'][3]) / 2]\n",
    "    geometry=routes['routes'][0]['geometry']\n",
    "    decoded = convert.decode_polyline(geometry)\n",
    "    #m= folium.Map(location = map_center,zoom_start=13)\n",
    "    m= folium.Map(location = list(reversed(map_center)),zoom_start=13)\n",
    "\n",
    "    for place, coord in coords.items():\n",
    "        folium.Marker(\n",
    "            location=list(reversed(coord)),\n",
    "            popup=f\"{place}\",\n",
    "            icon=folium.Icon(color=\"red\", icon=\"info-sign\")\n",
    "        ).add_to(m)\n",
    "\n",
    "    total_distance = routes['routes'][0]['summary']['distance']  # en mètres\n",
    "    total_duration = routes['routes'][0]['summary']['duration']  # en secondes\n",
    "   \n",
    "    # Texte dynamique\n",
    "    distance_km = total_distance / 1000\n",
    "    duration_minutes = total_duration / 60\n",
    "    popup_text = (\n",
    "        f\"<b>Total distance:</b> {distance_km:.2f} km<br>\"\n",
    "        f\"<b>Total duration:</b> {duration_minutes:.1f} minutes\"\n",
    "    )\n",
    "\n",
    "    folium.PolyLine(\n",
    "        locations =  [list(reversed(coord)) for coord in decoded['coordinates']],\n",
    "        color='blue',\n",
    "        weight = 5,\n",
    "        tooltip=popup_text,\n",
    "        ).add_to(m)\n",
    "\n",
    "    return m\n"
   ]
  },
  {
   "cell_type": "code",
   "execution_count": 14,
   "metadata": {},
   "outputs": [],
   "source": [
    "ville = 'Athènes'\n",
    "list_act = [\"musée de l'acropole\", \"parthenon\",\"plaka\",\"stade panathenaïque\",\"acropole\",\"stade panathenaïque\",\"mont lycabette\",\"musée archeologique national\",\"temple d'héphaïsteion\"]\n",
    "\n"
   ]
  },
  {
   "cell_type": "code",
   "execution_count": null,
   "metadata": {},
   "outputs": [],
   "source": [
    "m=calculate_itinerary(list_act,ville,'cycling-regular')\n",
    "m"
   ]
  },
  {
   "cell_type": "code",
   "execution_count": null,
   "metadata": {},
   "outputs": [],
   "source": [
    "address = 'la tour eiffel'\n",
    "city = 'paris'\n",
    "response = client.pelias_search(text=f\"{address},{city}\")"
   ]
  },
  {
   "cell_type": "code",
   "execution_count": null,
   "metadata": {},
   "outputs": [],
   "source": [
    "coordinates = response['features'][0]['geometry']['coordinates']"
   ]
  },
  {
   "cell_type": "code",
   "execution_count": null,
   "metadata": {},
   "outputs": [],
   "source": [
    "list(reversed(coordinates))"
   ]
  },
  {
   "cell_type": "code",
   "execution_count": null,
   "metadata": {},
   "outputs": [],
   "source": [
    "geolocator = Nominatim(user_agent=\"test\")\n",
    "tab=[]\n",
    "city=\"athenes\"\n",
    "for address in list_act:\n",
    "    location = geolocator.geocode(f\"{address},{city}\")\n",
    "    #time.sleep(1)\n",
    "    if location is not None:\n",
    "          tab.append([location.latitude,location.longitude])\n",
    "    else:\n",
    "         tab.append([None,None])"
   ]
  },
  {
   "cell_type": "code",
   "execution_count": null,
   "metadata": {},
   "outputs": [],
   "source": [
    "location = geolocator.geocode(f\"mont lycabette,{city}\")\n",
    "\n",
    "location"
   ]
  },
  {
   "cell_type": "code",
   "execution_count": null,
   "metadata": {},
   "outputs": [],
   "source": [
    "type(location)"
   ]
  },
  {
   "cell_type": "code",
   "execution_count": null,
   "metadata": {},
   "outputs": [],
   "source": [
    "from geopy.geocoders import Nominatim\n",
    "from geopy.exc import GeopyError\n",
    "\n",
    "def test(city_name):\n",
    "    \"\"\"\n",
    "    Valide et récupère le nom standardisé d'une ville en anglais via l'API Nominatim d'OpenStreetMap.\n",
    "    \n",
    "    Args:\n",
    "        city_name (str): Le nom de la ville à valider.\n",
    "        \n",
    "    Returns:\n",
    "        str: Le nom standardisé de la ville en anglais, ou None si la ville n'est pas trouvée.\n",
    "    \"\"\"\n",
    "    # Initialiser le géolocalisateur avec un user_agent\n",
    "    geolocator = Nominatim(user_agent=\"city_validation_test\")\n",
    "    \n",
    "    try:\n",
    "        # Rechercher la ville, en demandant les résultats en anglais\n",
    "        location = geolocator.geocode(city_name, addressdetails=True, exactly_one=True, language='en')\n",
    "        \n",
    "        if location:\n",
    "            # Extraction du nom de la ville en anglais\n",
    "            standardized_name = location.address.split(\",\")[0]\n",
    "            print(f\"City found: {standardized_name}\")\n",
    "            return standardized_name\n",
    "        else:\n",
    "            print(f\"City '{city_name}' not found.\")\n",
    "            return None\n",
    "    except GeopyError as e:\n",
    "        print(f\"Error querying city API: {e}\")\n",
    "        return None\n",
    "\n",
    "# Exemple d'utilisation\n",
    "test('amien, france')\n"
   ]
  },
  {
   "cell_type": "code",
   "execution_count": null,
   "metadata": {},
   "outputs": [],
   "source": []
  },
  {
   "cell_type": "code",
   "execution_count": null,
   "metadata": {},
   "outputs": [],
   "source": [
    "from geopy.geocoders import Nominatim\n",
    "from geopy.exc import GeopyError\n",
    "\n",
    "def test(city_name, country_name):\n",
    "    \"\"\"\n",
    "    Valide et récupère le nom standardisé d'une ville avec le pays en anglais via l'API Nominatim d'OpenStreetMap.\n",
    "    Permet d'envoyer à la fois le nom de la ville et du pays pour une recherche plus précise.\n",
    "    \n",
    "    Args:\n",
    "        city_name (str): Le nom de la ville à valider.\n",
    "        country_name (str): Le nom du pays dans lequel chercher la ville.\n",
    "        \n",
    "    Returns:\n",
    "        str: Le nom standardisé de la ville et du pays en anglais, ou None si la ville n'est pas trouvée.\n",
    "    \"\"\"\n",
    "    # Initialiser le géolocalisateur avec un user_agent\n",
    "    geolocator = Nominatim(user_agent=\"city_validation_test\")\n",
    "    \n",
    "    try:\n",
    "        # Formater la requête avec la ville et le pays\n",
    "        query = f\"{city_name}, {country_name}\"\n",
    "        \n",
    "        # Rechercher la ville dans le pays, en demandant les résultats en anglais\n",
    "        location = geolocator.geocode(query, addressdetails=True, exactly_one=True, language='en')\n",
    "        \n",
    "        if location:\n",
    "            # Extraction du nom de la ville et du pays en anglais\n",
    "            address_parts = location.raw.get('address', {})\n",
    "\n",
    "            # On prend la première partie (ville) et la dernière (pays)\n",
    "            #city_and_country = f\"{address_parts[0]}, {address_parts[-1]}\"\n",
    "            address = location.raw.get('address', {})\n",
    "            region = address.get('state', None)\n",
    "            city = address.get('city', None)\n",
    "            country = address.get('country', None)\n",
    "\n",
    "            #print(f\"City found: {city_and_country}\")\n",
    "            return city,country,region\n",
    "        else:\n",
    "            print(f\"City '{city_name}' in '{country_name}' not found.\")\n",
    "            return test(input(\"enter a city\"),input(\"enter a country\"))\n",
    "    except GeopyError as e:\n",
    "        print(f\"Error querying city API: {e}\")\n",
    "        \n",
    "\n",
    "# Exemple d'utilisation\n",
    "a,b,c = test('montpellier', 'france')\n",
    "print(a)\n",
    "print(b)\n",
    "print(c)\n"
   ]
  },
  {
   "cell_type": "code",
   "execution_count": null,
   "metadata": {},
   "outputs": [],
   "source": []
  }
 ],
 "metadata": {
  "kernelspec": {
   "display_name": ".venv",
   "language": "python",
   "name": "python3"
  },
  "language_info": {
   "codemirror_mode": {
    "name": "ipython",
    "version": 3
   },
   "file_extension": ".py",
   "mimetype": "text/x-python",
   "name": "python",
   "nbconvert_exporter": "python",
   "pygments_lexer": "ipython3",
   "version": "3.12.4"
  }
 },
 "nbformat": 4,
 "nbformat_minor": 2
}
