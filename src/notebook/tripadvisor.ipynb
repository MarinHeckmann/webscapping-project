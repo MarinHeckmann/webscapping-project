{
 "cells": [
  {
   "cell_type": "code",
   "execution_count": 4,
   "id": "96766a84-141f-4c79-b819-fb79ebf57f95",
   "metadata": {},
   "outputs": [],
   "source": [
    "import requests\n",
    "from configparser import ConfigParser"
   ]
  },
  {
   "cell_type": "code",
   "execution_count": 6,
   "id": "befffc48-5737-4959-97b6-1e5a50796b5c",
   "metadata": {},
   "outputs": [
    {
     "name": "stdout",
     "output_type": "stream",
     "text": [
      "\"51B8EC4B4ECD486AB118A75BE2611AB5\"\n"
     ]
    }
   ],
   "source": [
    "config = ConfigParser()\n",
    "config.read('config.ini')\n",
    "print(config['API_KEY']['TripAdvisor'])"
   ]
  },
  {
   "cell_type": "code",
   "execution_count": null,
   "id": "0911b39a-0e61-4298-b51c-1e484eb7876d",
   "metadata": {},
   "outputs": [],
   "source": []
  },
  {
   "cell_type": "code",
   "execution_count": null,
   "id": "5e0f09ef-f7fb-435a-aaf6-25ac7eafd2a4",
   "metadata": {},
   "outputs": [],
   "source": []
  },
  {
   "cell_type": "code",
   "execution_count": null,
   "id": "829b2757-bfd6-4253-8357-e305fb40aec0",
   "metadata": {},
   "outputs": [],
   "source": []
  },
  {
   "cell_type": "code",
   "execution_count": null,
   "id": "0166b087-bc06-4f6f-8f77-90f6558cd8ff",
   "metadata": {},
   "outputs": [],
   "source": []
  }
 ],
 "metadata": {
  "kernelspec": {
   "display_name": "Python 3 (ipykernel)",
   "language": "python",
   "name": "python3"
  },
  "language_info": {
   "codemirror_mode": {
    "name": "ipython",
    "version": 3
   },
   "file_extension": ".py",
   "mimetype": "text/x-python",
   "name": "python",
   "nbconvert_exporter": "python",
   "pygments_lexer": "ipython3",
   "version": "3.12.4"
  }
 },
 "nbformat": 4,
 "nbformat_minor": 5
}
