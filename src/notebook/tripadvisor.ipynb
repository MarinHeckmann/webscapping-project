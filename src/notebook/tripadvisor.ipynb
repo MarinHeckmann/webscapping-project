{
 "cells": [
  {
   "cell_type": "code",
   "execution_count": 3,
   "id": "96766a84-141f-4c79-b819-fb79ebf57f95",
   "metadata": {},
   "outputs": [],
   "source": [
    "import requests\n",
    "from configparser import ConfigParser\n",
    "import os\n",
    "import ast\n",
    "from dotenv import load_dotenv\n"
   ]
  },
  {
   "cell_type": "code",
   "execution_count": 2,
   "id": "befffc48-5737-4959-97b6-1e5a50796b5c",
   "metadata": {},
   "outputs": [
    {
     "ename": "Exception",
     "evalue": "FileNotFoundError: config.ini",
     "output_type": "error",
     "traceback": [
      "\u001b[1;31m---------------------------------------------------------------------------\u001b[0m",
      "\u001b[1;31mException\u001b[0m                                 Traceback (most recent call last)",
      "Cell \u001b[1;32mIn[2], line 2\u001b[0m\n\u001b[0;32m      1\u001b[0m \u001b[38;5;28;01mif\u001b[39;00m \u001b[38;5;129;01mnot\u001b[39;00m os\u001b[38;5;241m.\u001b[39mpath\u001b[38;5;241m.\u001b[39mexists(\u001b[38;5;124m\"\u001b[39m\u001b[38;5;124mconfig.ini\u001b[39m\u001b[38;5;124m\"\u001b[39m):\n\u001b[1;32m----> 2\u001b[0m     \u001b[38;5;28;01mraise\u001b[39;00m \u001b[38;5;167;01mException\u001b[39;00m(\u001b[38;5;124m\"\u001b[39m\u001b[38;5;124mFileNotFoundError: config.ini\u001b[39m\u001b[38;5;124m\"\u001b[39m)\n\u001b[0;32m      3\u001b[0m config \u001b[38;5;241m=\u001b[39m ConfigParser()\n\u001b[0;32m      4\u001b[0m config\u001b[38;5;241m.\u001b[39mread(\u001b[38;5;124m'\u001b[39m\u001b[38;5;124mconfig.ini\u001b[39m\u001b[38;5;124m'\u001b[39m)\n",
      "\u001b[1;31mException\u001b[0m: FileNotFoundError: config.ini"
     ]
    }
   ],
   "source": [
    "if not os.path.exists(\"config.ini\"):\n",
    "    raise Exception(\"FileNotFoundError: config.ini\")\n",
    "config = ConfigParser()\n",
    "config.read('config.ini')\n",
    "API_KEY = config['API_KEY']['TripAdvisor']"
   ]
  },
  {
   "cell_type": "code",
   "execution_count": 5,
   "id": "397b7e46",
   "metadata": {},
   "outputs": [],
   "source": [
    "load_dotenv()\n",
    "API_KEY = os.getenv('tripadvisor_api_key')"
   ]
  },
  {
   "cell_type": "code",
   "execution_count": 6,
   "id": "26666612-75e1-45e9-8315-83329a2d5001",
   "metadata": {},
   "outputs": [],
   "source": [
    "def locationDetails(locationId, language='en', currency='USD'):\n",
    "    \"\"\"\n",
    "    locationId:int      A unique identifier for a location on Tripadvisor. The location ID can be obtained using the Location Search.\n",
    "    language:string     The language in which to return results (e.g. \"en\" for English or \"es\" for Spanish) from the list of our Supported Languages.\n",
    "    currency:string     The currency code to use for request and response (should follow ISO 4217).\n",
    "    \"\"\"\n",
    "    url = f\"https://api.content.tripadvisor.com/api/v1/location/{locationId}/details?language={language}&currency=USD&key={API_KEY}\"\n",
    "    headers = {\"accept\": \"application/json\"}\n",
    "    response = requests.get(url, headers=headers)\n",
    "    return ast.literal_eval(response.text) #return dict"
   ]
  },
  {
   "cell_type": "code",
   "execution_count": 7,
   "id": "ee771e3c-7e1f-408b-ba53-019494fba791",
   "metadata": {},
   "outputs": [],
   "source": [
    "def locationPhotos(locationId, language='en', limit=-1, offset=-1, source=''):\n",
    "    \"\"\"\n",
    "    locationId:int      A unique identifier for a location on Tripadvisor. The location ID can be obtained using the Location Search.\n",
    "    language:string     The language in which to return results (e.g. \"en\" for English or \"es\" for Spanish) from the list of our Supported Languages.\n",
    "    limit:int           The number of results to return\n",
    "    offset:int          The index of the first result\n",
    "    source:string       A comma-separated list of allowed photo sources. Allowed values are 'Expert', 'Management', 'Traveler'. If not specified, allow photos from all sources.\n",
    "    \"\"\"\n",
    "    url = f\"https://api.content.tripadvisor.com/api/v1/location/{locationId}/photos?language=en&key={API_KEY}\"\n",
    "    if limit!=-1:\n",
    "        url += f\"&limit={limit}\"\n",
    "    if offset!=-1:\n",
    "        url += f\"&offset={offset}\"\n",
    "    if source!='':\n",
    "        url += f\"&source={source}\"\n",
    "    headers = {\"accept\": \"application/json\"}\n",
    "    response = requests.get(url, headers=headers)\n",
    "    res_dict = ast.literal_eval(response.text)\n",
    "    if 'data' in res_dict:\n",
    "        return res_dict['data'] # return list(locations)\n",
    "    else:\n",
    "        return res_dict #request failed (return dict)"
   ]
  },
  {
   "cell_type": "code",
   "execution_count": 8,
   "id": "e83b0ed3-bca6-4308-b323-c7499e0edd67",
   "metadata": {},
   "outputs": [],
   "source": [
    "def locationReviews(locationId, language='en', limit=-1, offset=-1):\n",
    "    \"\"\"\n",
    "    locationId:int      A unique identifier for a location on Tripadvisor. The location ID can be obtained using the Location Search.\n",
    "    language:string     The language in which to return results (e.g. \"en\" for English or \"es\" for Spanish) from the list of our Supported Languages.\n",
    "    limit:int           The number of results to return\n",
    "    offset:int          The index of the first result\n",
    "    \"\"\"\n",
    "    url = f\"https://api.content.tripadvisor.com/api/v1/location/{locationId}/reviews?language={language}&key={API_KEY}\"\n",
    "    if limit!=-1:\n",
    "        url += f\"&limit={limit}\"\n",
    "    if offset!=-1:\n",
    "        url += f\"&offset={offset}\"\n",
    "    headers = {\"accept\": \"application/json\"}\n",
    "    response = requests.get(url, headers=headers)\n",
    "    res_dict = ast.literal_eval(response.text)\n",
    "    if 'data' in res_dict:\n",
    "        return res_dict['data'] # return list(locations)\n",
    "    else:\n",
    "        return res_dict #request failed (return dict)"
   ]
  },
  {
   "cell_type": "code",
   "execution_count": 9,
   "id": "a213bedf-5e6b-4470-bee3-1727ec1639ce",
   "metadata": {},
   "outputs": [],
   "source": [
    "def findSearch(searchQuery, category='', phone='', address='', latLong='', radius=-1, radiusUnit='', language='en'):\n",
    "    \"\"\"\n",
    "    searchQuery:string  Text to use for searching based on the name of the location\n",
    "    category:string     Filters result set based on property type. Valid options are \"hotels\", \"attractions\", \"restaurants\", and \"geos\"\n",
    "    phone:string        Phone number to filter the search results by (this can be in any format with spaces and dashes but without the \"+\" sign at the beginning)\n",
    "    address:string      Address to filter the search results by\n",
    "    latLong:string      Latitude/Longitude pair to scope down the search around a specifc point - eg. \"42.3455,-71.10767\"\n",
    "    radius:int          Length of the radius from the provided latitude/longitude pair to filter results. (>0)\n",
    "    radiusUnit:string   Unit for length of the radius. Valid options are \"km\", \"mi\", \"m\" (km=kilometers, mi=miles, m=meters)\n",
    "    language:string     The language in which to return results (e.g. \"en\" for English or \"es\" for Spanish) from the list of our Supported Language\n",
    "    \"\"\"\n",
    "    url = f\"https://api.content.tripadvisor.com/api/v1/location/search?searchQuery={searchQuery}&language={language}&key={API_KEY}\"\n",
    "    if category!='':\n",
    "        url += f\"&category={category}\"\n",
    "    if phone!='':\n",
    "        url += f\"&phone={phone}\"\n",
    "    if address!='':\n",
    "        url += f\"&address={address}\"\n",
    "    if latLong!='':\n",
    "        url += f\"&latLong={latLong}\"\n",
    "        if radius!=-1 and radiusUnit!='':\n",
    "            url += f\"&radius={radius}&radiusUnit={radiusUnit}\"\n",
    "        \n",
    "    headers = {\"accept\": \"application/json\"}\n",
    "    response = requests.get(url, headers=headers)\n",
    "    res_dict = ast.literal_eval(response.text)\n",
    "    if 'data' in res_dict:\n",
    "        return res_dict['data'] # return list(locations)\n",
    "    else:\n",
    "        return res_dict #request failed (return dict)"
   ]
  },
  {
   "cell_type": "code",
   "execution_count": 10,
   "id": "03067b63-6473-486e-8d1d-56489bec61c6",
   "metadata": {},
   "outputs": [],
   "source": [
    "def nearbySearch(latLong, category='', phone='', address='', radius=-1, radiusUnit='', language='en'):\n",
    "    \"\"\"\n",
    "    latLong:string      Latitude/Longitude pair to scope down the search around a specifc point - eg. \"42.3455,-71.10767\"\n",
    "    category:string     Filters result set based on property type. Valid options are \"hotels\", \"attractions\", \"restaurants\", and \"geos\"\n",
    "    phone:string        Phone number to filter the search results by (this can be in any format with spaces and dashes but without the \"+\" sign at the beginning)\n",
    "    address:string      Address to filter the search results by\n",
    "    latLong:string      Latitude/Longitude pair to scope down the search around a specifc point - eg. \"42.3455,-71.10767\"\n",
    "    radius:int          Length of the radius from the provided latitude/longitude pair to filter results. (>0)\n",
    "    radiusUnit:string   Unit for length of the radius. Valid options are \"km\", \"mi\", \"m\" (km=kilometers, mi=miles, m=meters)\n",
    "    language:string     The language in which to return results (e.g. \"en\" for English or \"es\" for Spanish) from the list of our Supported Language\n",
    "    \"\"\"\n",
    "    url = f\"https://api.content.tripadvisor.com/api/v1/location/nearby_search?latLong={latLong}&language={language}&key={API_KEY}\"\n",
    "    if category!='':\n",
    "        url += f\"&category={category}\"\n",
    "    if phone!='':\n",
    "        url += f\"&phone={phone}\"\n",
    "    if address!='':\n",
    "        url += f\"&address={address}\"\n",
    "    if radius!=-1 and radiusUnit!='':\n",
    "        url += f\"&radius={radius}&radiusUnit={radiusUnit}\"\n",
    "    \n",
    "    headers = {\"accept\": \"application/json\"}\n",
    "    response = requests.get(url, headers=headers)\n",
    "    res_dict = ast.literal_eval(response.text)\n",
    "    if 'data' in res_dict:\n",
    "        return res_dict['data'] # return list(locations)\n",
    "    else:\n",
    "        return res_dict #request failed (return dict)"
   ]
  },
  {
   "cell_type": "code",
   "execution_count": 11,
   "id": "0166b087-bc06-4f6f-8f77-90f6558cd8ff",
   "metadata": {},
   "outputs": [
    {
     "data": {
      "text/plain": [
       "{'location_id': '189400',\n",
       " 'name': 'Athens',\n",
       " 'description': 'Once known for smog, traffic and tacky architecture, Athens is a city reformed thanks to fortunes brought by the 2004 Summer Olympics. Spotless parks and streets, an ultra-modern subway, new freeways, an accessible airport and all signs in perfect English make the city easily negotiable. Meriting more than a stopover en route to the islands, sophisticated Athens sites include many pillars of Western history, from the Acropolis to the Temple of Olympian Zeus, as well as treasures in the National Archaeological Museum. ',\n",
       " 'web_url': 'https://www.tripadvisor.com/Tourism-g189400-Athens_Attica-Vacations.html?m=66827',\n",
       " 'address_obj': {'city': 'Attica',\n",
       "  'country': 'Greece',\n",
       "  'address_string': 'Athens Greece'},\n",
       " 'ancestors': [{'level': 'Region', 'name': 'Attica', 'location_id': '189399'},\n",
       "  {'level': 'Country', 'name': 'Greece', 'location_id': '189398'}],\n",
       " 'latitude': '37.97698',\n",
       " 'longitude': '23.721302',\n",
       " 'timezone': 'Europe/Athens',\n",
       " 'see_all_photos': 'https://www.tripadvisor.com/Tourism-g189400-m66827-Athens_Attica-Vacations.html#photos',\n",
       " 'category': {'name': 'geographic', 'localized_name': 'Geographic'},\n",
       " 'subcategory': [{'name': 'municipality', 'localized_name': 'Municipality'}],\n",
       " 'neighborhood_info': [],\n",
       " 'awards': []}"
      ]
     },
     "execution_count": 11,
     "metadata": {},
     "output_type": "execute_result"
    }
   ],
   "source": [
    "locationId=189400\n",
    "locationDetails(locationId)"
   ]
  },
  {
   "cell_type": "code",
   "execution_count": 12,
   "id": "b5ca0e6f-376c-457e-9635-06d7c7a354bb",
   "metadata": {},
   "outputs": [
    {
     "data": {
      "text/plain": [
       "[{'location_id': '17489699',\n",
       "  'name': 'Maison Dallet',\n",
       "  'distance': '0.041197165182012246',\n",
       "  'bearing': 'north',\n",
       "  'address_obj': {'street1': '47 cours Jean Baptiste Langlet',\n",
       "   'city': 'Reims',\n",
       "   'country': 'France',\n",
       "   'postalcode': '51100',\n",
       "   'address_string': '47 cours Jean Baptiste Langlet, 51100, Reims France'}},\n",
       " {'location_id': '27289375',\n",
       "  'name': \"L'eveil Des Thes\",\n",
       "  'distance': '0.07795987934048054',\n",
       "  'bearing': 'northwest',\n",
       "  'address_obj': {'street1': '34 Rue Des Telliers',\n",
       "   'city': 'Bezannes',\n",
       "   'country': 'France',\n",
       "   'postalcode': '51100',\n",
       "   'address_string': '34 Rue Des Telliers, 51100 Bezannes, Reims France'}},\n",
       " {'location_id': '24057013',\n",
       "  'name': 'Cuivre',\n",
       "  'distance': '0.08194038279911695',\n",
       "  'bearing': 'northeast',\n",
       "  'address_obj': {'street1': '2 rue de Pouilly',\n",
       "   'city': 'Reims',\n",
       "   'country': 'France',\n",
       "   'postalcode': '51100',\n",
       "   'address_string': '2 rue de Pouilly, 51100, Reims France'}},\n",
       " {'location_id': '19717560',\n",
       "  'name': 'Alba',\n",
       "  'distance': '0.07780616644989596',\n",
       "  'bearing': 'northeast',\n",
       "  'address_obj': {'street1': '5 rue Salin',\n",
       "   'city': 'Reims',\n",
       "   'country': 'France',\n",
       "   'postalcode': '51100',\n",
       "   'address_string': '5 rue Salin, 51100, Reims France'}},\n",
       " {'location_id': '7947794',\n",
       "  'name': 'The Mother Road',\n",
       "  'distance': '0.14187136973951484',\n",
       "  'bearing': 'northeast',\n",
       "  'address_obj': {'city': 'Reims',\n",
       "   'country': 'France',\n",
       "   'postalcode': '51100',\n",
       "   'address_string': '51100, Reims France'}},\n",
       " {'location_id': '24132711',\n",
       "  'name': 'Yannick Restaurant',\n",
       "  'distance': '0.14187136973951484',\n",
       "  'bearing': 'northeast',\n",
       "  'address_obj': {'street1': 'Rue Jacques Mari',\n",
       "   'city': 'Reims',\n",
       "   'country': 'France',\n",
       "   'address_string': 'Rue Jacques Mari, Reims France'}},\n",
       " {'location_id': '12061869',\n",
       "  'name': 'La Bonbonniere',\n",
       "  'distance': '0.06556445569371844',\n",
       "  'bearing': 'east',\n",
       "  'address_obj': {'street1': \"15 Rue De L'arbalete\",\n",
       "   'city': 'Reims',\n",
       "   'country': 'France',\n",
       "   'postalcode': '51100',\n",
       "   'address_string': \"15 Rue De L'arbalete, 51100, Reims France\"}},\n",
       " {'location_id': '27302047',\n",
       "  'name': 'Cafe Coton',\n",
       "  'distance': '0.04038535536540516',\n",
       "  'bearing': 'south',\n",
       "  'address_obj': {'street1': '5 Rue Du Cadran Saint-pierre',\n",
       "   'city': 'Bezannes',\n",
       "   'country': 'France',\n",
       "   'postalcode': '51100',\n",
       "   'address_string': '5 Rue Du Cadran Saint-pierre, 51100 Bezannes, Reims France'}},\n",
       " {'location_id': '27853647',\n",
       "  'name': 'Fossier',\n",
       "  'distance': '0.055315853504757755',\n",
       "  'bearing': 'southeast',\n",
       "  'address_obj': {'street1': '25 Cours Jean-baptiste Langlet',\n",
       "   'city': 'Bezannes',\n",
       "   'country': 'France',\n",
       "   'postalcode': '51100',\n",
       "   'address_string': '25 Cours Jean-baptiste Langlet, 51100 Bezannes, Reims France'}},\n",
       " {'location_id': '24819142',\n",
       "  'name': 'Rejane Et Norbert',\n",
       "  'distance': '0.08962452218687025',\n",
       "  'bearing': 'south',\n",
       "  'address_obj': {'street1': '38 rue des Elus',\n",
       "   'city': 'Reims',\n",
       "   'country': 'France',\n",
       "   'postalcode': '51100',\n",
       "   'address_string': '38 rue des Elus, 51100, Reims France'}}]"
      ]
     },
     "execution_count": 12,
     "metadata": {},
     "output_type": "execute_result"
    }
   ],
   "source": [
    "latLong = \"49.256599,4.030003\"\n",
    "nearbySearch(latLong, category='restaurants')"
   ]
  },
  {
   "cell_type": "code",
   "execution_count": null,
   "id": "4f5aa56a",
   "metadata": {},
   "outputs": [],
   "source": []
  }
 ],
 "metadata": {
  "kernelspec": {
   "display_name": "base",
   "language": "python",
   "name": "python3"
  },
  "language_info": {
   "codemirror_mode": {
    "name": "ipython",
    "version": 3
   },
   "file_extension": ".py",
   "mimetype": "text/x-python",
   "name": "python",
   "nbconvert_exporter": "python",
   "pygments_lexer": "ipython3",
   "version": "3.11.5"
  }
 },
 "nbformat": 4,
 "nbformat_minor": 5
}
