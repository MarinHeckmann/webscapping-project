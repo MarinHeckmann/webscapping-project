{
 "cells": [
  {
   "cell_type": "code",
   "execution_count": 4,
   "id": "89bb9873-7188-4a97-97ef-35160ca5dbc5",
   "metadata": {},
   "outputs": [],
   "source": [
    "import requests\n",
    "import urllib.request\n",
    "import time\n",
    "from bs4 import BeautifulSoup\n",
    "from selenium import webdriver\n",
    "import re\n",
    "import pandas as pd\n",
    "from selenium.webdriver.common.keys import Keys\n",
    "from selenium.common.exceptions import NoSuchElementException, StaleElementReferenceException\n",
    "from tqdm import tqdm"
   ]
  },
  {
   "cell_type": "code",
   "execution_count": 5,
   "id": "25bbaccc-092a-4bbf-a3c4-2fb379b0d278",
   "metadata": {},
   "outputs": [],
   "source": [
    "driver = webdriver.Chrome()\n",
    "driver.get('https://guide.michelin.com/fr/fr')\n",
    "time.sleep(1)\n",
    "driver.find_element('id', 'didomi-notice-agree-button').click() # accept cookies"
   ]
  },
  {
   "cell_type": "code",
   "execution_count": 6,
   "id": "1de3647c-45f9-4b9c-99f8-fc2cee3f37d3",
   "metadata": {},
   "outputs": [],
   "source": [
    "div = driver.find_element('class name', \"tabs-container__content--restaurant\")\n",
    "div.find_element('xpath', 'form/div/div/div').click()"
   ]
  },
  {
   "cell_type": "code",
   "execution_count": 7,
   "id": "7b930e92-775f-49d4-947f-4e3e3b1d7dd6",
   "metadata": {},
   "outputs": [],
   "source": [
    "input_element = driver.find_element('id', 'autocomplete-1-input')"
   ]
  },
  {
   "cell_type": "code",
   "execution_count": 8,
   "id": "e0a333f8-94e2-44ca-a47e-28dce096e2a4",
   "metadata": {},
   "outputs": [
    {
     "name": "stdout",
     "output_type": "stream",
     "text": [
      "do tasks manually\n"
     ]
    }
   ],
   "source": [
    "try:\n",
    "    input_element.click()\n",
    "except:\n",
    "    print('do tasks manually')"
   ]
  },
  {
   "cell_type": "markdown",
   "id": "e5f6dfe4-9757-47d0-a7d9-e8720cdb2d04",
   "metadata": {},
   "source": [
    "normalement la dernière ligne plante pcq ya des protections anti scrap sur le site\n",
    "à faire manuellement:\n",
    "- Ctrl Maj I\n",
    "- click droit sur l'input -> inspecter"
   ]
  },
  {
   "cell_type": "code",
   "execution_count": 9,
   "id": "6dea3a42-4d9c-41c8-b9b5-266e8301d56a",
   "metadata": {
    "scrolled": true
   },
   "outputs": [],
   "source": [
    "input_element.send_keys('test')"
   ]
  },
  {
   "cell_type": "code",
   "execution_count": 10,
   "id": "dc8f64f5-8c9a-4383-a6c8-957f9d8061b9",
   "metadata": {},
   "outputs": [],
   "source": [
    "def get_cities(country):\n",
    "    req = requests.get('https://worldpopulationreview.com/countries/'+country)\n",
    "    soup = BeautifulSoup(req.text, 'html.parser')\n",
    "    cities = []\n",
    "    for div in soup.find_all('div', {'class', 'lg:w-6/12 border-r px-2 py-4 last-of-type:border-r-0 md:px-4 lg:px-8'}):\n",
    "        for th in div.find_all('th'):\n",
    "            cities.append(th.text)\n",
    "    return cities[2:]"
   ]
  },
  {
   "cell_type": "code",
   "execution_count": 14,
   "id": "3318d0b1-9645-4c14-ab10-7aafa177630b",
   "metadata": {},
   "outputs": [],
   "source": [
    "def get_links(html:str):\n",
    "    soup = BeautifulSoup(html, 'html.parser')\n",
    "    data = []\n",
    "    for i, section in enumerate(soup.find_all('section')):\n",
    "        city_patterns = ['noindex']\n",
    "        has_city_patterns = [False]\n",
    "        region_patterns = ['region', 'state']\n",
    "        has_region_patterns = [False, False]\n",
    "        if i==1:\n",
    "            break\n",
    "        for a in section.find('ul').find_all('a'):\n",
    "            e = a.get('href').split('/')\n",
    "            region_url, city_url = e[3:5]\n",
    "            stop = False\n",
    "\n",
    "            for i, pattern in enumerate(city_patterns):\n",
    "                if pattern in city_url:\n",
    "                    if not has_city_patterns[i]: # add it once\n",
    "                        if check_link(region_url, city_url):\n",
    "                            data.append((region_url, city_url))\n",
    "                            has_city_patterns[i] = True\n",
    "                    stop = True\n",
    "                    break\n",
    "            if stop:\n",
    "                continue\n",
    "            for i, pattern in enumerate(region_patterns):\n",
    "                if pattern in region_url:\n",
    "                    if not has_region_patterns[i]: # add it once\n",
    "                        if check_link(region_url, city_url):\n",
    "                            data.append((region_url, city_url))\n",
    "                            has_region_patterns[i] = True\n",
    "                    stop = True\n",
    "                    break\n",
    "            if stop:\n",
    "                continue\n",
    "            if (region_url, city_url) not in data:\n",
    "                if check_link(region_url, city_url):\n",
    "                    data.append((region_url, city_url)) \n",
    "    return data\n",
    "\n",
    "def check_link(region, city):\n",
    "    req = requests.get(f'https://guide.michelin.com/fr/fr/{region}/{city}/restaurants?sort=distance')\n",
    "    soup = BeautifulSoup(req.text, 'html.parser')\n",
    "    div = soup.find('div', {'class', 'search-results__count'})\n",
    "    return div.text.strip()!='Aucun résultat'\n",
    "\n",
    "def search(text):\n",
    "    input_element.send_keys(Keys.CONTROL,\"a\", Keys.DELETE)\n",
    "    input_element.send_keys(text)\n",
    "    try:\n",
    "        html_content = driver.find_element(\"class name\", \"aa-PanelLayout\")\n",
    "        return get_links(html_content.get_attribute(\"outerHTML\"))\n",
    "    except NoSuchElementException:\n",
    "        return []\n",
    "    except StaleElementReferenceException: # when element takes time to load\n",
    "        time.sleep(3)\n",
    "        input_element.send_keys(Keys.CONTROL,\"a\", Keys.DELETE)\n",
    "        input_element.send_keys(text)\n",
    "        time.sleep(3)\n",
    "        try:\n",
    "            html_content = driver.find_element(\"class name\", \"aa-PanelLayout\")\n",
    "            return get_links(html_content.get_attribute(\"outerHTML\"))\n",
    "        except NoSuchElementException:\n",
    "            return []"
   ]
  },
  {
   "cell_type": "code",
   "execution_count": 12,
   "id": "d1e6f0fb-97e3-4cbb-9734-6d389d51f863",
   "metadata": {
    "scrolled": true
   },
   "outputs": [],
   "source": [
    "countries = []\n",
    "req = requests.get('https://worldpopulationreview.com/countries')\n",
    "soup = BeautifulSoup(req.text, 'html.parser')\n",
    "for a in soup.find('table').find_all('a'):\n",
    "    link = a.get('href')\n",
    "    if 'flag' not in link:\n",
    "        countries.append(link.split('/')[-1])"
   ]
  },
  {
   "cell_type": "code",
   "execution_count": 15,
   "id": "09efd2a2-f5fd-4409-913d-c1e5f4e4199c",
   "metadata": {},
   "outputs": [
    {
     "name": "stderr",
     "output_type": "stream",
     "text": [
      "234it [1:00:56, 15.63s/it]"
     ]
    },
    {
     "name": "stdout",
     "output_type": "stream",
     "text": [
      "done\n"
     ]
    },
    {
     "name": "stderr",
     "output_type": "stream",
     "text": [
      "\n"
     ]
    }
   ],
   "source": [
    "data = []\n",
    "for i,country in tqdm(enumerate(countries)):\n",
    "    cities = get_cities(country)\n",
    "    for city in cities:\n",
    "        for region_url, city_url in search(city):\n",
    "            data.append({'country':country, 'city':city, 'region_url':region_url, 'city_url':city_url})\n",
    "df = pd.DataFrame.from_dict(data)\n",
    "df.to_csv('links_michelin.csv', index=False)\n",
    "print('done')"
   ]
  }
 ],
 "metadata": {
  "kernelspec": {
   "display_name": "Python 3 (ipykernel)",
   "language": "python",
   "name": "python3"
  },
  "language_info": {
   "codemirror_mode": {
    "name": "ipython",
    "version": 3
   },
   "file_extension": ".py",
   "mimetype": "text/x-python",
   "name": "python",
   "nbconvert_exporter": "python",
   "pygments_lexer": "ipython3",
   "version": "3.12.4"
  }
 },
 "nbformat": 4,
 "nbformat_minor": 5
}
